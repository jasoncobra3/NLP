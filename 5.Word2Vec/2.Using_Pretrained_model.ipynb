{
 "cells": [
  {
   "cell_type": "markdown",
   "id": "2007a529-9d8e-4e91-a456-2b90c22a9864",
   "metadata": {},
   "source": [
    "### Using Pretrained Word2Vec model "
   ]
  },
  {
   "cell_type": "markdown",
   "id": "7ec3d0fa-e76a-4c55-99c1-ba03ca319e07",
   "metadata": {},
   "source": [
    "- we are using a GoogleNews-Vectors-negative300 model which is trained over 5 milion words and each word is represented by 300 vectors"
   ]
  },
  {
   "cell_type": "code",
   "execution_count": 2,
   "id": "e598a2c7-9b2c-4b80-80a3-a9babd7dd740",
   "metadata": {},
   "outputs": [],
   "source": [
    "import gensim"
   ]
  },
  {
   "cell_type": "code",
   "execution_count": 3,
   "id": "659dca27-e861-4fd6-b227-8f295b5b546f",
   "metadata": {},
   "outputs": [],
   "source": [
    "from gensim.models import Word2Vec , KeyedVectors"
   ]
  },
  {
   "cell_type": "code",
   "execution_count": 4,
   "id": "a42d6c81-60f9-4fb2-9241-96ed07b5119f",
   "metadata": {},
   "outputs": [],
   "source": [
    "model=KeyedVectors.load_word2vec_format('GoogleNews-vectors-negative300.bin.gz',binary=True, limit=500000)"
   ]
  },
  {
   "cell_type": "markdown",
   "id": "1c9722a0-8cc6-4df6-9fcf-41cfeb37df44",
   "metadata": {},
   "source": [
    "#### 1.vector Representation of word"
   ]
  },
  {
   "cell_type": "code",
   "execution_count": 5,
   "id": "8d988578-32e6-429e-86d3-a976309d0364",
   "metadata": {},
   "outputs": [
    {
     "data": {
      "text/plain": [
       "(300,)"
      ]
     },
     "execution_count": 5,
     "metadata": {},
     "output_type": "execute_result"
    }
   ],
   "source": [
    "model['cricket'].shape"
   ]
  },
  {
   "cell_type": "code",
   "execution_count": 6,
   "id": "cbad77b9-231e-4e7c-bde7-eece3bc59295",
   "metadata": {},
   "outputs": [
    {
     "data": {
      "text/plain": [
       "array([-3.67187500e-01, -1.21582031e-01,  2.85156250e-01,  8.15429688e-02,\n",
       "        3.19824219e-02, -3.19824219e-02,  1.34765625e-01, -2.73437500e-01,\n",
       "        9.46044922e-03, -1.07421875e-01,  2.48046875e-01, -6.05468750e-01,\n",
       "        5.02929688e-02,  2.98828125e-01,  9.57031250e-02,  1.39648438e-01,\n",
       "       -5.41992188e-02,  2.91015625e-01,  2.85156250e-01,  1.51367188e-01,\n",
       "       -2.89062500e-01, -3.46679688e-02,  1.81884766e-02, -3.92578125e-01,\n",
       "        2.46093750e-01,  2.51953125e-01, -9.86328125e-02,  3.22265625e-01,\n",
       "        4.49218750e-01, -1.36718750e-01, -2.34375000e-01,  4.12597656e-02,\n",
       "       -2.15820312e-01,  1.69921875e-01,  2.56347656e-02,  1.50146484e-02,\n",
       "       -3.75976562e-02,  6.95800781e-03,  4.00390625e-01,  2.09960938e-01,\n",
       "        1.17675781e-01, -4.19921875e-02,  2.34375000e-01,  2.03125000e-01,\n",
       "       -1.86523438e-01, -2.46093750e-01,  3.12500000e-01, -2.59765625e-01,\n",
       "       -1.06933594e-01,  1.04003906e-01, -1.79687500e-01,  5.71289062e-02,\n",
       "       -7.41577148e-03, -5.59082031e-02,  7.61718750e-02, -4.14062500e-01,\n",
       "       -3.65234375e-01, -3.35937500e-01, -1.54296875e-01, -2.39257812e-01,\n",
       "       -3.73046875e-01,  2.27355957e-03, -3.51562500e-01,  8.64257812e-02,\n",
       "        1.26953125e-01,  2.21679688e-01, -9.86328125e-02,  1.08886719e-01,\n",
       "        3.65234375e-01, -5.66406250e-02,  5.66406250e-02, -1.09375000e-01,\n",
       "       -1.66992188e-01, -4.54101562e-02, -2.00195312e-01, -1.22558594e-01,\n",
       "        1.31835938e-01, -1.31835938e-01,  1.03027344e-01, -3.41796875e-01,\n",
       "       -1.57226562e-01,  2.04101562e-01,  4.39453125e-02,  2.44140625e-01,\n",
       "       -3.19824219e-02,  3.20312500e-01, -4.41894531e-02,  1.08398438e-01,\n",
       "       -4.98046875e-02, -9.52148438e-03,  2.46093750e-01, -5.59082031e-02,\n",
       "        4.07714844e-02, -1.78222656e-02, -2.95410156e-02,  1.65039062e-01,\n",
       "        5.03906250e-01, -2.81250000e-01,  9.81445312e-02,  1.80664062e-02,\n",
       "       -1.83593750e-01,  2.53906250e-01,  2.25585938e-01,  1.63574219e-02,\n",
       "        1.81640625e-01,  1.38671875e-01,  3.33984375e-01,  1.39648438e-01,\n",
       "        1.45874023e-02, -2.89306641e-02, -8.39843750e-02,  1.50390625e-01,\n",
       "        1.67968750e-01,  2.28515625e-01,  3.59375000e-01,  1.22558594e-01,\n",
       "       -3.28125000e-01, -1.56250000e-01,  2.77343750e-01,  1.77001953e-02,\n",
       "       -1.46484375e-01, -4.51660156e-03, -4.46777344e-02,  1.75781250e-01,\n",
       "       -3.75000000e-01,  1.16699219e-01, -1.39648438e-01,  2.55859375e-01,\n",
       "       -1.96289062e-01, -2.57568359e-02, -5.41992188e-02, -2.51464844e-02,\n",
       "       -1.93359375e-01, -3.17382812e-02, -8.74023438e-02, -1.32812500e-01,\n",
       "       -2.12402344e-02,  4.33593750e-01, -5.20019531e-02,  3.46679688e-02,\n",
       "        8.00781250e-02,  3.41796875e-02,  1.99218750e-01, -2.39257812e-02,\n",
       "       -2.37304688e-01,  1.93359375e-01,  7.32421875e-02, -2.87109375e-01,\n",
       "        1.25000000e-01,  8.44726562e-02,  1.30859375e-01, -2.19726562e-01,\n",
       "       -1.61132812e-01, -2.63671875e-01, -5.46875000e-01, -2.96875000e-01,\n",
       "        3.44238281e-02, -2.87109375e-01, -1.93359375e-01, -1.61132812e-01,\n",
       "       -3.84765625e-01, -2.14843750e-01, -6.22558594e-03, -1.27929688e-01,\n",
       "       -1.00097656e-01, -6.21093750e-01,  3.78906250e-01, -4.58984375e-01,\n",
       "        1.44531250e-01, -9.13085938e-02, -3.08593750e-01,  2.23632812e-01,\n",
       "        7.86132812e-02, -2.16796875e-01,  8.78906250e-02, -1.66992188e-01,\n",
       "        1.14746094e-02, -2.53906250e-01, -6.25000000e-02,  6.04248047e-03,\n",
       "        1.56250000e-01,  4.37500000e-01, -2.23632812e-01, -2.32421875e-01,\n",
       "        2.75390625e-01,  2.39257812e-01,  4.49218750e-02, -7.51953125e-02,\n",
       "        5.74218750e-01, -2.61230469e-02, -1.21582031e-01,  2.44140625e-01,\n",
       "       -3.37890625e-01,  8.59375000e-02, -7.71484375e-02,  4.85839844e-02,\n",
       "        1.43554688e-01,  4.25781250e-01, -4.29687500e-02, -1.08398438e-01,\n",
       "        1.19628906e-01, -1.91406250e-01, -2.12890625e-01, -2.87109375e-01,\n",
       "       -1.14746094e-01, -2.04101562e-01, -2.06298828e-02, -2.53906250e-01,\n",
       "        8.25195312e-02, -3.97949219e-02, -1.57226562e-01,  1.34765625e-01,\n",
       "        2.08007812e-01, -1.78710938e-01, -2.00195312e-02, -8.34960938e-02,\n",
       "       -1.20605469e-01,  4.29687500e-02, -1.94335938e-01, -1.32812500e-01,\n",
       "       -2.17285156e-02, -2.35351562e-01, -3.63281250e-01,  1.51367188e-01,\n",
       "        9.32617188e-02,  1.63085938e-01,  1.02050781e-01, -4.27734375e-01,\n",
       "        2.83203125e-01,  2.74658203e-04, -3.20312500e-01,  1.68457031e-02,\n",
       "        4.06250000e-01, -5.24902344e-02,  7.91015625e-02, -1.41601562e-01,\n",
       "        5.27343750e-01, -1.26953125e-01,  4.74609375e-01, -6.64062500e-02,\n",
       "        3.41796875e-01, -1.78710938e-01,  3.69140625e-01, -2.05078125e-01,\n",
       "        5.82885742e-03, -1.84570312e-01, -8.88671875e-02, -1.81640625e-01,\n",
       "       -4.80957031e-02,  4.39453125e-01,  2.12890625e-01, -3.07617188e-02,\n",
       "        9.32617188e-02,  2.40234375e-01,  2.39257812e-01,  2.51953125e-01,\n",
       "       -1.98974609e-02,  1.24511719e-01, -4.73632812e-02, -2.13623047e-02,\n",
       "        3.12500000e-02,  3.05175781e-02,  2.79296875e-01,  9.08203125e-02,\n",
       "       -2.02148438e-01, -2.19726562e-02, -2.63671875e-01,  8.78906250e-02,\n",
       "       -1.07421875e-01, -2.49023438e-01, -1.22070312e-02,  1.73828125e-01,\n",
       "       -9.91210938e-02,  7.27539062e-02,  2.59765625e-01, -4.60937500e-01,\n",
       "        3.59375000e-01, -2.25585938e-01,  1.87988281e-02, -2.19726562e-01,\n",
       "       -2.08984375e-01, -1.51367188e-01,  8.64257812e-02,  1.11694336e-02,\n",
       "        6.93359375e-02, -2.99072266e-02,  1.43554688e-01,  1.89453125e-01,\n",
       "       -1.32812500e-01,  4.72656250e-01, -1.40625000e-01, -2.52685547e-02,\n",
       "        1.91406250e-01, -2.63671875e-01, -1.39648438e-01,  1.09375000e-01,\n",
       "        1.97753906e-02,  2.49023438e-01, -1.42578125e-01,  4.15039062e-02],\n",
       "      dtype=float32)"
      ]
     },
     "execution_count": 6,
     "metadata": {},
     "output_type": "execute_result"
    }
   ],
   "source": [
    "model['cricket']"
   ]
  },
  {
   "cell_type": "markdown",
   "id": "ea3ba401-70db-40d0-888d-ef7cef51471a",
   "metadata": {},
   "source": [
    "- From above you can see the Word to vector represenation of 'cricket' word using pretrained model\n",
    "- It consists of 300 vectors for representation of single word"
   ]
  },
  {
   "cell_type": "markdown",
   "id": "2dbec5c3-14c1-4357-ac61-fd31e02ab022",
   "metadata": {},
   "source": [
    "#### 2.Finding most similar words"
   ]
  },
  {
   "cell_type": "code",
   "execution_count": 7,
   "id": "662555b1-b356-406d-84a1-321f689b6a08",
   "metadata": {},
   "outputs": [
    {
     "data": {
      "text/plain": [
       "[('woman', 0.7664012908935547),\n",
       " ('boy', 0.6824871301651001),\n",
       " ('teenager', 0.6586930155754089),\n",
       " ('teenage_girl', 0.6147903203964233),\n",
       " ('girl', 0.5921714305877686),\n",
       " ('robber', 0.5585119128227234),\n",
       " ('Robbery_suspect', 0.5584409832954407),\n",
       " ('teen_ager', 0.5549196600914001),\n",
       " ('men', 0.5489763021469116),\n",
       " ('guy', 0.5420035123825073)]"
      ]
     },
     "execution_count": 7,
     "metadata": {},
     "output_type": "execute_result"
    }
   ],
   "source": [
    "model.most_similar('man')"
   ]
  },
  {
   "cell_type": "code",
   "execution_count": 8,
   "id": "0ba091e5-b9a5-4a73-ab9e-ebcf06b11d4d",
   "metadata": {},
   "outputs": [
    {
     "data": {
      "text/plain": [
       "[('cricketing', 0.8372225761413574),\n",
       " ('cricketers', 0.8165745735168457),\n",
       " ('Test_cricket', 0.8094819188117981),\n",
       " ('Twenty##_cricket', 0.8068488240242004),\n",
       " ('Twenty##', 0.7624265551567078),\n",
       " ('Cricket', 0.75413978099823),\n",
       " ('cricketer', 0.7372578382492065),\n",
       " ('twenty##', 0.7316356897354126),\n",
       " ('T##_cricket', 0.7304614186286926),\n",
       " ('West_Indies_cricket', 0.6987985968589783)]"
      ]
     },
     "execution_count": 8,
     "metadata": {},
     "output_type": "execute_result"
    }
   ],
   "source": [
    "model.most_similar('cricket')"
   ]
  },
  {
   "cell_type": "code",
   "execution_count": 9,
   "id": "302c8d62-88e4-49ab-a35b-6b016f65d32d",
   "metadata": {},
   "outputs": [
    {
     "data": {
      "text/plain": [
       "[('Facebook', 0.7563533186912537),\n",
       " ('FaceBook', 0.7076998949050903),\n",
       " ('twitter', 0.6988552212715149),\n",
       " ('myspace', 0.6941817998886108),\n",
       " ('Twitter', 0.664244532585144),\n",
       " ('Facebook.com', 0.6529868245124817),\n",
       " ('FacebookFacebook', 0.6162722110748291),\n",
       " ('facebook.com', 0.6135972142219543),\n",
       " ('Twitter.com', 0.6102108359336853),\n",
       " ('TwitterTwitter', 0.6085205674171448)]"
      ]
     },
     "execution_count": 9,
     "metadata": {},
     "output_type": "execute_result"
    }
   ],
   "source": [
    "model.most_similar('facebook')"
   ]
  },
  {
   "cell_type": "markdown",
   "id": "05116597-5b68-4d45-b2c8-d0cc98c24901",
   "metadata": {},
   "source": [
    "- from above we can find the top 10 most similar word to the given word\n",
    "- hence model will find similar words on basis of the similar score between vectors and rank them with their scores "
   ]
  },
  {
   "cell_type": "markdown",
   "id": "e2725da6-fa19-4b29-9307-d281a324176f",
   "metadata": {},
   "source": [
    "#### 3.Finding Similarity Score"
   ]
  },
  {
   "cell_type": "code",
   "execution_count": 11,
   "id": "2b9b70b6-3a06-4033-97b8-055980eb6108",
   "metadata": {},
   "outputs": [
    {
     "data": {
      "text/plain": [
       "0.76640123"
      ]
     },
     "execution_count": 11,
     "metadata": {},
     "output_type": "execute_result"
    }
   ],
   "source": [
    "model.similarity('man','woman')"
   ]
  },
  {
   "cell_type": "code",
   "execution_count": 12,
   "id": "5dfe7621-a3de-4a65-83aa-cfe60b971b57",
   "metadata": {},
   "outputs": [
    {
     "data": {
      "text/plain": [
       "0.04917075"
      ]
     },
     "execution_count": 12,
     "metadata": {},
     "output_type": "execute_result"
    }
   ],
   "source": [
    "model.similarity('man','table')"
   ]
  },
  {
   "cell_type": "markdown",
   "id": "0f0053ba-eed2-44f2-b239-310c2cb07ecb",
   "metadata": {},
   "source": [
    "- From above vectors are used to find the similarity between two words\n",
    "- Such that it is done on the basis of vectors representation of each word along multiple dimensions"
   ]
  },
  {
   "cell_type": "markdown",
   "id": "f0a4fa03-6b76-4adf-9c28-bca6b53b43d0",
   "metadata": {},
   "source": [
    "#### 4.Finding the Odd word from given list"
   ]
  },
  {
   "cell_type": "code",
   "execution_count": 15,
   "id": "0bb64dab-d170-4280-b6f1-0e6456985a3f",
   "metadata": {},
   "outputs": [
    {
     "data": {
      "text/plain": [
       "'PHP'"
      ]
     },
     "execution_count": 15,
     "metadata": {},
     "output_type": "execute_result"
    }
   ],
   "source": [
    "model.doesnt_match(['PHP','monkey','man'])"
   ]
  },
  {
   "cell_type": "code",
   "execution_count": 16,
   "id": "acff3e81-3148-4f57-8b9f-be85db001653",
   "metadata": {},
   "outputs": [
    {
     "data": {
      "text/plain": [
       "'man'"
      ]
     },
     "execution_count": 16,
     "metadata": {},
     "output_type": "execute_result"
    }
   ],
   "source": [
    "model.doesnt_match(['python','java','man','ruby'])"
   ]
  },
  {
   "cell_type": "markdown",
   "id": "4345ca1e-f9c3-410e-bb81-01e330a0e189",
   "metadata": {},
   "source": [
    "- doesnt_match function is used to find the odd one out word from given list of words"
   ]
  },
  {
   "cell_type": "markdown",
   "id": "9d55ff61-279d-47f1-b52c-11f8911d633b",
   "metadata": {},
   "source": [
    "#### 5.Establishing Relation"
   ]
  },
  {
   "cell_type": "code",
   "execution_count": 18,
   "id": "2d57b3d4-53dd-42dc-add1-d9442fa5c7fc",
   "metadata": {},
   "outputs": [
    {
     "data": {
      "text/plain": [
       "[('king', 0.8527070879936218),\n",
       " ('queen', 0.6743921637535095),\n",
       " ('monarch', 0.6191632151603699),\n",
       " ('kings', 0.5753854513168335),\n",
       " ('crown_prince', 0.562209963798523),\n",
       " ('princess', 0.543317437171936),\n",
       " ('prince', 0.5246985554695129),\n",
       " ('sultan', 0.5236638784408569),\n",
       " ('ruler', 0.5165805220603943),\n",
       " ('monarchy', 0.5113592147827148)]"
      ]
     },
     "execution_count": 18,
     "metadata": {},
     "output_type": "execute_result"
    }
   ],
   "source": [
    "vec=model['king']-model['men']+model['women']\n",
    "model.most_similar([vec])"
   ]
  },
  {
   "cell_type": "code",
   "execution_count": 19,
   "id": "717d9524-a043-4095-9eca-29adf98eab13",
   "metadata": {},
   "outputs": [],
   "source": [
    "vec=model['INR']-model['India']+model['England']"
   ]
  },
  {
   "cell_type": "code",
   "execution_count": 20,
   "id": "4ed7344c-9455-419d-a7b4-3c4a951e6119",
   "metadata": {},
   "outputs": [
    {
     "data": {
      "text/plain": [
       "[('INR', 0.6442341208457947),\n",
       " ('GBP', 0.5040826797485352),\n",
       " ('England', 0.44649264216423035),\n",
       " ('£', 0.43340998888015747),\n",
       " ('Â_£', 0.4307197630405426),\n",
       " ('£_#.##m', 0.42561301589012146),\n",
       " ('Pounds_Sterling', 0.42512619495391846),\n",
       " ('GBP##', 0.42464491724967957),\n",
       " ('stg', 0.42324796319007874),\n",
       " ('£_#.###m', 0.4201711118221283)]"
      ]
     },
     "execution_count": 20,
     "metadata": {},
     "output_type": "execute_result"
    }
   ],
   "source": [
    "model.most_similar([vec])"
   ]
  },
  {
   "cell_type": "code",
   "execution_count": 22,
   "id": "3815c090-048b-483e-a362-af0907d2abf2",
   "metadata": {},
   "outputs": [
    {
     "data": {
      "text/plain": [
       "[('meow', 0.6592323780059814),\n",
       " ('animal', 0.6298652291297913),\n",
       " ('Animal', 0.5407367944717407),\n",
       " ('animals', 0.4974575936794281),\n",
       " ('feline', 0.4783766567707062),\n",
       " ('animal_welfare', 0.46557894349098206),\n",
       " ('Animals', 0.45959019660949707),\n",
       " ('Animal_Care', 0.459189236164093),\n",
       " ('cats', 0.4590539038181305),\n",
       " ('potbellied_pig', 0.45555442571640015)]"
      ]
     },
     "execution_count": 22,
     "metadata": {},
     "output_type": "execute_result"
    }
   ],
   "source": [
    "vec=model['animal']-model['bark']+model['meow']\n",
    "model.most_similar([vec])"
   ]
  },
  {
   "cell_type": "code",
   "execution_count": 23,
   "id": "9eff7deb-7ac5-4a86-9fbb-9287982af62a",
   "metadata": {},
   "outputs": [
    {
     "data": {
      "text/plain": [
       "[('dog', 0.8917244076728821),\n",
       " ('dogs', 0.7718555927276611),\n",
       " ('puppy', 0.7201880216598511),\n",
       " ('pooch', 0.6861467361450195),\n",
       " ('pit_bull', 0.6733806729316711),\n",
       " ('golden_retriever', 0.6608618497848511),\n",
       " ('pet', 0.656000554561615),\n",
       " ('cat', 0.6543325185775757),\n",
       " ('canines', 0.6415247917175293),\n",
       " ('pup', 0.6367546319961548)]"
      ]
     },
     "execution_count": 23,
     "metadata": {},
     "output_type": "execute_result"
    }
   ],
   "source": [
    "vec=model['dog']-model['male']+model['female']\n",
    "model.most_similar([vec])"
   ]
  },
  {
   "cell_type": "markdown",
   "id": "090d3675-64a9-45d5-81ac-c4170083d816",
   "metadata": {},
   "source": [
    "- From above we can see that pretrained Word2Vec model is able to understand relation between words to some extent but not much accurate"
   ]
  },
  {
   "cell_type": "markdown",
   "id": "d6101164-64b4-41f3-8483-5925dba60b99",
   "metadata": {},
   "source": [
    "# Happy Learning...!"
   ]
  }
 ],
 "metadata": {
  "kernelspec": {
   "display_name": "Python 3 (ipykernel)",
   "language": "python",
   "name": "python3"
  },
  "language_info": {
   "codemirror_mode": {
    "name": "ipython",
    "version": 3
   },
   "file_extension": ".py",
   "mimetype": "text/x-python",
   "name": "python",
   "nbconvert_exporter": "python",
   "pygments_lexer": "ipython3",
   "version": "3.11.7"
  }
 },
 "nbformat": 4,
 "nbformat_minor": 5
}

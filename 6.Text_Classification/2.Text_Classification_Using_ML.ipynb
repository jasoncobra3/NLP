{
 "cells": [
  {
   "cell_type": "code",
   "execution_count": 6,
   "id": "17a8e2c4-6708-484f-811e-f5d394ffdb46",
   "metadata": {},
   "outputs": [],
   "source": [
    "import pandas as pd\n",
    "import numpy as np"
   ]
  },
  {
   "cell_type": "code",
   "execution_count": 7,
   "id": "667486b1-e68a-4bf1-9341-88ae5a0dd003",
   "metadata": {},
   "outputs": [],
   "source": [
    "temp_df=pd.read_csv(\"IMDB Dataset.csv\")"
   ]
  },
  {
   "cell_type": "code",
   "execution_count": 8,
   "id": "8bbaf55e-a3c0-4e47-a448-1c820f8dbdfe",
   "metadata": {},
   "outputs": [
    {
     "data": {
      "text/plain": [
       "(50000, 2)"
      ]
     },
     "execution_count": 8,
     "metadata": {},
     "output_type": "execute_result"
    }
   ],
   "source": [
    "temp_df.shape"
   ]
  },
  {
   "cell_type": "code",
   "execution_count": 9,
   "id": "e7f3c9ff-4197-43cd-a7b3-86865e87992c",
   "metadata": {},
   "outputs": [],
   "source": [
    "df=temp_df.iloc[:10000]"
   ]
  },
  {
   "cell_type": "code",
   "execution_count": 10,
   "id": "0b28c2da-dbcc-4048-af05-95d54be3f2fe",
   "metadata": {},
   "outputs": [
    {
     "data": {
      "text/plain": [
       "(10000, 2)"
      ]
     },
     "execution_count": 10,
     "metadata": {},
     "output_type": "execute_result"
    }
   ],
   "source": [
    "df.shape"
   ]
  },
  {
   "cell_type": "code",
   "execution_count": 11,
   "id": "b59e24bf-0847-4b99-ac52-f0964f6b56a4",
   "metadata": {},
   "outputs": [
    {
     "data": {
      "text/html": [
       "<div>\n",
       "<style scoped>\n",
       "    .dataframe tbody tr th:only-of-type {\n",
       "        vertical-align: middle;\n",
       "    }\n",
       "\n",
       "    .dataframe tbody tr th {\n",
       "        vertical-align: top;\n",
       "    }\n",
       "\n",
       "    .dataframe thead th {\n",
       "        text-align: right;\n",
       "    }\n",
       "</style>\n",
       "<table border=\"1\" class=\"dataframe\">\n",
       "  <thead>\n",
       "    <tr style=\"text-align: right;\">\n",
       "      <th></th>\n",
       "      <th>review</th>\n",
       "      <th>sentiment</th>\n",
       "    </tr>\n",
       "  </thead>\n",
       "  <tbody>\n",
       "    <tr>\n",
       "      <th>0</th>\n",
       "      <td>One of the other reviewers has mentioned that ...</td>\n",
       "      <td>positive</td>\n",
       "    </tr>\n",
       "    <tr>\n",
       "      <th>1</th>\n",
       "      <td>A wonderful little production. &lt;br /&gt;&lt;br /&gt;The...</td>\n",
       "      <td>positive</td>\n",
       "    </tr>\n",
       "    <tr>\n",
       "      <th>2</th>\n",
       "      <td>I thought this was a wonderful way to spend ti...</td>\n",
       "      <td>positive</td>\n",
       "    </tr>\n",
       "    <tr>\n",
       "      <th>3</th>\n",
       "      <td>Basically there's a family where a little boy ...</td>\n",
       "      <td>negative</td>\n",
       "    </tr>\n",
       "    <tr>\n",
       "      <th>4</th>\n",
       "      <td>Petter Mattei's \"Love in the Time of Money\" is...</td>\n",
       "      <td>positive</td>\n",
       "    </tr>\n",
       "  </tbody>\n",
       "</table>\n",
       "</div>"
      ],
      "text/plain": [
       "                                              review sentiment\n",
       "0  One of the other reviewers has mentioned that ...  positive\n",
       "1  A wonderful little production. <br /><br />The...  positive\n",
       "2  I thought this was a wonderful way to spend ti...  positive\n",
       "3  Basically there's a family where a little boy ...  negative\n",
       "4  Petter Mattei's \"Love in the Time of Money\" is...  positive"
      ]
     },
     "execution_count": 11,
     "metadata": {},
     "output_type": "execute_result"
    }
   ],
   "source": [
    "df.head()"
   ]
  },
  {
   "cell_type": "code",
   "execution_count": 12,
   "id": "ed8e26f6-e904-4417-be67-b718a0ed9da0",
   "metadata": {},
   "outputs": [
    {
     "data": {
      "text/plain": [
       "'A wonderful little production. <br /><br />The filming technique is very unassuming- very old-time-BBC fashion and gives a comforting, and sometimes discomforting, sense of realism to the entire piece. <br /><br />The actors are extremely well chosen- Michael Sheen not only \"has got all the polari\" but he has all the voices down pat too! You can truly see the seamless editing guided by the references to Williams\\' diary entries, not only is it well worth the watching but it is a terrificly written and performed piece. A masterful production about one of the great master\\'s of comedy and his life. <br /><br />The realism really comes home with the little things: the fantasy of the guard which, rather than use the traditional \\'dream\\' techniques remains solid then disappears. It plays on our knowledge and our senses, particularly with the scenes concerning Orton and Halliwell and the sets (particularly of their flat with Halliwell\\'s murals decorating every surface) are terribly well done.'"
      ]
     },
     "execution_count": 12,
     "metadata": {},
     "output_type": "execute_result"
    }
   ],
   "source": [
    "df['review'][1]"
   ]
  },
  {
   "cell_type": "code",
   "execution_count": 13,
   "id": "d73ca6dc-dd08-470b-bcb9-49306d056325",
   "metadata": {},
   "outputs": [
    {
     "data": {
      "text/plain": [
       "positive    5028\n",
       "negative    4972\n",
       "Name: sentiment, dtype: int64"
      ]
     },
     "execution_count": 13,
     "metadata": {},
     "output_type": "execute_result"
    }
   ],
   "source": [
    "df['sentiment'].value_counts()"
   ]
  },
  {
   "cell_type": "code",
   "execution_count": 14,
   "id": "be7680bb-ce40-4289-93d0-70507aeaf2e2",
   "metadata": {},
   "outputs": [
    {
     "data": {
      "text/plain": [
       "review       0\n",
       "sentiment    0\n",
       "dtype: int64"
      ]
     },
     "execution_count": 14,
     "metadata": {},
     "output_type": "execute_result"
    }
   ],
   "source": [
    "df.isnull().sum()"
   ]
  },
  {
   "cell_type": "code",
   "execution_count": 15,
   "id": "3ee47b1c-7427-4ecd-bd73-1b90bf28ff00",
   "metadata": {},
   "outputs": [
    {
     "data": {
      "text/plain": [
       "17"
      ]
     },
     "execution_count": 15,
     "metadata": {},
     "output_type": "execute_result"
    }
   ],
   "source": [
    "df.duplicated().sum()"
   ]
  },
  {
   "cell_type": "code",
   "execution_count": 16,
   "id": "2233feef-438c-4bac-9dea-5c125ea8682a",
   "metadata": {},
   "outputs": [
    {
     "name": "stderr",
     "output_type": "stream",
     "text": [
      "C:\\Users\\acer\\AppData\\Local\\Temp\\ipykernel_2376\\3006716147.py:1: SettingWithCopyWarning: \n",
      "A value is trying to be set on a copy of a slice from a DataFrame\n",
      "\n",
      "See the caveats in the documentation: https://pandas.pydata.org/pandas-docs/stable/user_guide/indexing.html#returning-a-view-versus-a-copy\n",
      "  df.drop_duplicates(inplace=True)\n"
     ]
    }
   ],
   "source": [
    "df.drop_duplicates(inplace=True)"
   ]
  },
  {
   "cell_type": "code",
   "execution_count": 17,
   "id": "12cbe0f0-9dc3-4f9f-ae02-dc4e70406a16",
   "metadata": {},
   "outputs": [
    {
     "data": {
      "text/plain": [
       "0"
      ]
     },
     "execution_count": 17,
     "metadata": {},
     "output_type": "execute_result"
    }
   ],
   "source": [
    "df.duplicated().sum()"
   ]
  },
  {
   "cell_type": "markdown",
   "id": "cb773f00-4383-4462-855c-5aca4128ff81",
   "metadata": {},
   "source": [
    "## Preprocessing"
   ]
  },
  {
   "cell_type": "markdown",
   "id": "12f39725-4445-4e35-a6a1-e7e0184eb7f8",
   "metadata": {},
   "source": [
    "### 1.Removing_Tags"
   ]
  },
  {
   "cell_type": "code",
   "execution_count": 18,
   "id": "2d32d76b-c131-422a-b644-76eb7da76147",
   "metadata": {},
   "outputs": [],
   "source": [
    "import re\n",
    "def remove_tags(text):\n",
    "    cleaned_text=re.sub(re.compile('<.*?>'),'',text)\n",
    "    return cleaned_text"
   ]
  },
  {
   "cell_type": "code",
   "execution_count": 19,
   "id": "dfa29bac-1041-4f21-8327-a942ef01bf3e",
   "metadata": {},
   "outputs": [
    {
     "name": "stderr",
     "output_type": "stream",
     "text": [
      "C:\\Users\\acer\\AppData\\Local\\Temp\\ipykernel_2376\\2928534252.py:1: SettingWithCopyWarning: \n",
      "A value is trying to be set on a copy of a slice from a DataFrame.\n",
      "Try using .loc[row_indexer,col_indexer] = value instead\n",
      "\n",
      "See the caveats in the documentation: https://pandas.pydata.org/pandas-docs/stable/user_guide/indexing.html#returning-a-view-versus-a-copy\n",
      "  df['review']=df['review'].apply(remove_tags)\n"
     ]
    }
   ],
   "source": [
    "df['review']=df['review'].apply(remove_tags)"
   ]
  },
  {
   "cell_type": "code",
   "execution_count": 20,
   "id": "6fd2be2e-9355-4c35-925f-71cbcde57646",
   "metadata": {},
   "outputs": [
    {
     "data": {
      "text/html": [
       "<div>\n",
       "<style scoped>\n",
       "    .dataframe tbody tr th:only-of-type {\n",
       "        vertical-align: middle;\n",
       "    }\n",
       "\n",
       "    .dataframe tbody tr th {\n",
       "        vertical-align: top;\n",
       "    }\n",
       "\n",
       "    .dataframe thead th {\n",
       "        text-align: right;\n",
       "    }\n",
       "</style>\n",
       "<table border=\"1\" class=\"dataframe\">\n",
       "  <thead>\n",
       "    <tr style=\"text-align: right;\">\n",
       "      <th></th>\n",
       "      <th>review</th>\n",
       "      <th>sentiment</th>\n",
       "    </tr>\n",
       "  </thead>\n",
       "  <tbody>\n",
       "    <tr>\n",
       "      <th>0</th>\n",
       "      <td>One of the other reviewers has mentioned that ...</td>\n",
       "      <td>positive</td>\n",
       "    </tr>\n",
       "    <tr>\n",
       "      <th>1</th>\n",
       "      <td>A wonderful little production. The filming tec...</td>\n",
       "      <td>positive</td>\n",
       "    </tr>\n",
       "    <tr>\n",
       "      <th>2</th>\n",
       "      <td>I thought this was a wonderful way to spend ti...</td>\n",
       "      <td>positive</td>\n",
       "    </tr>\n",
       "    <tr>\n",
       "      <th>3</th>\n",
       "      <td>Basically there's a family where a little boy ...</td>\n",
       "      <td>negative</td>\n",
       "    </tr>\n",
       "    <tr>\n",
       "      <th>4</th>\n",
       "      <td>Petter Mattei's \"Love in the Time of Money\" is...</td>\n",
       "      <td>positive</td>\n",
       "    </tr>\n",
       "    <tr>\n",
       "      <th>...</th>\n",
       "      <td>...</td>\n",
       "      <td>...</td>\n",
       "    </tr>\n",
       "    <tr>\n",
       "      <th>9995</th>\n",
       "      <td>Fun, entertaining movie about WWII German spy ...</td>\n",
       "      <td>positive</td>\n",
       "    </tr>\n",
       "    <tr>\n",
       "      <th>9996</th>\n",
       "      <td>Give me a break. How can anyone say that this ...</td>\n",
       "      <td>negative</td>\n",
       "    </tr>\n",
       "    <tr>\n",
       "      <th>9997</th>\n",
       "      <td>This movie is a bad movie. But after watching ...</td>\n",
       "      <td>negative</td>\n",
       "    </tr>\n",
       "    <tr>\n",
       "      <th>9998</th>\n",
       "      <td>This is a movie that was probably made to ente...</td>\n",
       "      <td>negative</td>\n",
       "    </tr>\n",
       "    <tr>\n",
       "      <th>9999</th>\n",
       "      <td>Smashing film about film-making. Shows the int...</td>\n",
       "      <td>positive</td>\n",
       "    </tr>\n",
       "  </tbody>\n",
       "</table>\n",
       "<p>9983 rows × 2 columns</p>\n",
       "</div>"
      ],
      "text/plain": [
       "                                                 review sentiment\n",
       "0     One of the other reviewers has mentioned that ...  positive\n",
       "1     A wonderful little production. The filming tec...  positive\n",
       "2     I thought this was a wonderful way to spend ti...  positive\n",
       "3     Basically there's a family where a little boy ...  negative\n",
       "4     Petter Mattei's \"Love in the Time of Money\" is...  positive\n",
       "...                                                 ...       ...\n",
       "9995  Fun, entertaining movie about WWII German spy ...  positive\n",
       "9996  Give me a break. How can anyone say that this ...  negative\n",
       "9997  This movie is a bad movie. But after watching ...  negative\n",
       "9998  This is a movie that was probably made to ente...  negative\n",
       "9999  Smashing film about film-making. Shows the int...  positive\n",
       "\n",
       "[9983 rows x 2 columns]"
      ]
     },
     "execution_count": 20,
     "metadata": {},
     "output_type": "execute_result"
    }
   ],
   "source": [
    "df"
   ]
  },
  {
   "cell_type": "markdown",
   "id": "1318a29b-fe6d-4830-afb6-e916cd3c73ce",
   "metadata": {},
   "source": [
    "### 2.Lower_casing"
   ]
  },
  {
   "cell_type": "code",
   "execution_count": 21,
   "id": "ec52a779-9db9-4d58-a305-f40be2ff12c2",
   "metadata": {},
   "outputs": [
    {
     "name": "stderr",
     "output_type": "stream",
     "text": [
      "C:\\Users\\acer\\AppData\\Local\\Temp\\ipykernel_2376\\2697927567.py:1: SettingWithCopyWarning: \n",
      "A value is trying to be set on a copy of a slice from a DataFrame.\n",
      "Try using .loc[row_indexer,col_indexer] = value instead\n",
      "\n",
      "See the caveats in the documentation: https://pandas.pydata.org/pandas-docs/stable/user_guide/indexing.html#returning-a-view-versus-a-copy\n",
      "  df['review']=df['review'].apply(lambda x:x.lower())\n"
     ]
    }
   ],
   "source": [
    "df['review']=df['review'].apply(lambda x:x.lower())"
   ]
  },
  {
   "cell_type": "code",
   "execution_count": 22,
   "id": "4c07e750-1e06-44df-b404-f0381cbfaebf",
   "metadata": {},
   "outputs": [
    {
     "data": {
      "text/html": [
       "<div>\n",
       "<style scoped>\n",
       "    .dataframe tbody tr th:only-of-type {\n",
       "        vertical-align: middle;\n",
       "    }\n",
       "\n",
       "    .dataframe tbody tr th {\n",
       "        vertical-align: top;\n",
       "    }\n",
       "\n",
       "    .dataframe thead th {\n",
       "        text-align: right;\n",
       "    }\n",
       "</style>\n",
       "<table border=\"1\" class=\"dataframe\">\n",
       "  <thead>\n",
       "    <tr style=\"text-align: right;\">\n",
       "      <th></th>\n",
       "      <th>review</th>\n",
       "      <th>sentiment</th>\n",
       "    </tr>\n",
       "  </thead>\n",
       "  <tbody>\n",
       "    <tr>\n",
       "      <th>0</th>\n",
       "      <td>one of the other reviewers has mentioned that ...</td>\n",
       "      <td>positive</td>\n",
       "    </tr>\n",
       "    <tr>\n",
       "      <th>1</th>\n",
       "      <td>a wonderful little production. the filming tec...</td>\n",
       "      <td>positive</td>\n",
       "    </tr>\n",
       "    <tr>\n",
       "      <th>2</th>\n",
       "      <td>i thought this was a wonderful way to spend ti...</td>\n",
       "      <td>positive</td>\n",
       "    </tr>\n",
       "    <tr>\n",
       "      <th>3</th>\n",
       "      <td>basically there's a family where a little boy ...</td>\n",
       "      <td>negative</td>\n",
       "    </tr>\n",
       "    <tr>\n",
       "      <th>4</th>\n",
       "      <td>petter mattei's \"love in the time of money\" is...</td>\n",
       "      <td>positive</td>\n",
       "    </tr>\n",
       "  </tbody>\n",
       "</table>\n",
       "</div>"
      ],
      "text/plain": [
       "                                              review sentiment\n",
       "0  one of the other reviewers has mentioned that ...  positive\n",
       "1  a wonderful little production. the filming tec...  positive\n",
       "2  i thought this was a wonderful way to spend ti...  positive\n",
       "3  basically there's a family where a little boy ...  negative\n",
       "4  petter mattei's \"love in the time of money\" is...  positive"
      ]
     },
     "execution_count": 22,
     "metadata": {},
     "output_type": "execute_result"
    }
   ],
   "source": [
    "df.head()"
   ]
  },
  {
   "cell_type": "markdown",
   "id": "3aed49f1-b9c4-4937-af92-2758664736ef",
   "metadata": {},
   "source": [
    "### 3.Removing_Stopwords"
   ]
  },
  {
   "cell_type": "code",
   "execution_count": 23,
   "id": "73efb876-0278-4bff-ba82-accc156a6f8d",
   "metadata": {},
   "outputs": [
    {
     "name": "stderr",
     "output_type": "stream",
     "text": [
      "C:\\Users\\acer\\AppData\\Local\\Temp\\ipykernel_2376\\1346879149.py:3: SettingWithCopyWarning: \n",
      "A value is trying to be set on a copy of a slice from a DataFrame.\n",
      "Try using .loc[row_indexer,col_indexer] = value instead\n",
      "\n",
      "See the caveats in the documentation: https://pandas.pydata.org/pandas-docs/stable/user_guide/indexing.html#returning-a-view-versus-a-copy\n",
      "  df['review']=df['review'].apply(lambda x:[item for item in x.split() if item not in sw_list]).apply(lambda x:' '.join(x))\n"
     ]
    }
   ],
   "source": [
    "from nltk.corpus import stopwords\n",
    "sw_list=stopwords.words('english')\n",
    "df['review']=df['review'].apply(lambda x:[item for item in x.split() if item not in sw_list]).apply(lambda x:' '.join(x))"
   ]
  },
  {
   "cell_type": "code",
   "execution_count": 24,
   "id": "c8a74a74-142f-4084-a8c2-bce499218d73",
   "metadata": {},
   "outputs": [
    {
     "data": {
      "text/html": [
       "<div>\n",
       "<style scoped>\n",
       "    .dataframe tbody tr th:only-of-type {\n",
       "        vertical-align: middle;\n",
       "    }\n",
       "\n",
       "    .dataframe tbody tr th {\n",
       "        vertical-align: top;\n",
       "    }\n",
       "\n",
       "    .dataframe thead th {\n",
       "        text-align: right;\n",
       "    }\n",
       "</style>\n",
       "<table border=\"1\" class=\"dataframe\">\n",
       "  <thead>\n",
       "    <tr style=\"text-align: right;\">\n",
       "      <th></th>\n",
       "      <th>review</th>\n",
       "      <th>sentiment</th>\n",
       "    </tr>\n",
       "  </thead>\n",
       "  <tbody>\n",
       "    <tr>\n",
       "      <th>0</th>\n",
       "      <td>one reviewers mentioned watching 1 oz episode ...</td>\n",
       "      <td>positive</td>\n",
       "    </tr>\n",
       "    <tr>\n",
       "      <th>1</th>\n",
       "      <td>wonderful little production. filming technique...</td>\n",
       "      <td>positive</td>\n",
       "    </tr>\n",
       "    <tr>\n",
       "      <th>2</th>\n",
       "      <td>thought wonderful way spend time hot summer we...</td>\n",
       "      <td>positive</td>\n",
       "    </tr>\n",
       "    <tr>\n",
       "      <th>3</th>\n",
       "      <td>basically there's family little boy (jake) thi...</td>\n",
       "      <td>negative</td>\n",
       "    </tr>\n",
       "    <tr>\n",
       "      <th>4</th>\n",
       "      <td>petter mattei's \"love time money\" visually stu...</td>\n",
       "      <td>positive</td>\n",
       "    </tr>\n",
       "  </tbody>\n",
       "</table>\n",
       "</div>"
      ],
      "text/plain": [
       "                                              review sentiment\n",
       "0  one reviewers mentioned watching 1 oz episode ...  positive\n",
       "1  wonderful little production. filming technique...  positive\n",
       "2  thought wonderful way spend time hot summer we...  positive\n",
       "3  basically there's family little boy (jake) thi...  negative\n",
       "4  petter mattei's \"love time money\" visually stu...  positive"
      ]
     },
     "execution_count": 24,
     "metadata": {},
     "output_type": "execute_result"
    }
   ],
   "source": [
    "df.head()"
   ]
  },
  {
   "cell_type": "code",
   "execution_count": 25,
   "id": "84db08e6-623c-47c8-8936-2670abce6617",
   "metadata": {},
   "outputs": [],
   "source": [
    "x=df.iloc[:,0:1]\n",
    "y=df['sentiment']"
   ]
  },
  {
   "cell_type": "code",
   "execution_count": 26,
   "id": "4c48761d-bdee-4ef0-9404-7ab27b4ba512",
   "metadata": {},
   "outputs": [
    {
     "data": {
      "text/html": [
       "<div>\n",
       "<style scoped>\n",
       "    .dataframe tbody tr th:only-of-type {\n",
       "        vertical-align: middle;\n",
       "    }\n",
       "\n",
       "    .dataframe tbody tr th {\n",
       "        vertical-align: top;\n",
       "    }\n",
       "\n",
       "    .dataframe thead th {\n",
       "        text-align: right;\n",
       "    }\n",
       "</style>\n",
       "<table border=\"1\" class=\"dataframe\">\n",
       "  <thead>\n",
       "    <tr style=\"text-align: right;\">\n",
       "      <th></th>\n",
       "      <th>review</th>\n",
       "    </tr>\n",
       "  </thead>\n",
       "  <tbody>\n",
       "    <tr>\n",
       "      <th>0</th>\n",
       "      <td>one reviewers mentioned watching 1 oz episode ...</td>\n",
       "    </tr>\n",
       "    <tr>\n",
       "      <th>1</th>\n",
       "      <td>wonderful little production. filming technique...</td>\n",
       "    </tr>\n",
       "    <tr>\n",
       "      <th>2</th>\n",
       "      <td>thought wonderful way spend time hot summer we...</td>\n",
       "    </tr>\n",
       "    <tr>\n",
       "      <th>3</th>\n",
       "      <td>basically there's family little boy (jake) thi...</td>\n",
       "    </tr>\n",
       "    <tr>\n",
       "      <th>4</th>\n",
       "      <td>petter mattei's \"love time money\" visually stu...</td>\n",
       "    </tr>\n",
       "    <tr>\n",
       "      <th>...</th>\n",
       "      <td>...</td>\n",
       "    </tr>\n",
       "    <tr>\n",
       "      <th>9995</th>\n",
       "      <td>fun, entertaining movie wwii german spy (julie...</td>\n",
       "    </tr>\n",
       "    <tr>\n",
       "      <th>9996</th>\n",
       "      <td>give break. anyone say \"good hockey movie\"? kn...</td>\n",
       "    </tr>\n",
       "    <tr>\n",
       "      <th>9997</th>\n",
       "      <td>movie bad movie. watching endless series bad h...</td>\n",
       "    </tr>\n",
       "    <tr>\n",
       "      <th>9998</th>\n",
       "      <td>movie probably made entertain middle school, e...</td>\n",
       "    </tr>\n",
       "    <tr>\n",
       "      <th>9999</th>\n",
       "      <td>smashing film film-making. shows intense stran...</td>\n",
       "    </tr>\n",
       "  </tbody>\n",
       "</table>\n",
       "<p>9983 rows × 1 columns</p>\n",
       "</div>"
      ],
      "text/plain": [
       "                                                 review\n",
       "0     one reviewers mentioned watching 1 oz episode ...\n",
       "1     wonderful little production. filming technique...\n",
       "2     thought wonderful way spend time hot summer we...\n",
       "3     basically there's family little boy (jake) thi...\n",
       "4     petter mattei's \"love time money\" visually stu...\n",
       "...                                                 ...\n",
       "9995  fun, entertaining movie wwii german spy (julie...\n",
       "9996  give break. anyone say \"good hockey movie\"? kn...\n",
       "9997  movie bad movie. watching endless series bad h...\n",
       "9998  movie probably made entertain middle school, e...\n",
       "9999  smashing film film-making. shows intense stran...\n",
       "\n",
       "[9983 rows x 1 columns]"
      ]
     },
     "execution_count": 26,
     "metadata": {},
     "output_type": "execute_result"
    }
   ],
   "source": [
    "x"
   ]
  },
  {
   "cell_type": "code",
   "execution_count": 27,
   "id": "f87312f7-2b1f-47f7-b199-7ebac062aa74",
   "metadata": {},
   "outputs": [
    {
     "data": {
      "text/plain": [
       "0       positive\n",
       "1       positive\n",
       "2       positive\n",
       "3       negative\n",
       "4       positive\n",
       "          ...   \n",
       "9995    positive\n",
       "9996    negative\n",
       "9997    negative\n",
       "9998    negative\n",
       "9999    positive\n",
       "Name: sentiment, Length: 9983, dtype: object"
      ]
     },
     "execution_count": 27,
     "metadata": {},
     "output_type": "execute_result"
    }
   ],
   "source": [
    "y"
   ]
  },
  {
   "cell_type": "markdown",
   "id": "7a5f6458-adac-4518-8b8a-384ab0c98cf9",
   "metadata": {},
   "source": [
    "#### Encoding the Labels"
   ]
  },
  {
   "cell_type": "code",
   "execution_count": 28,
   "id": "b2e7ea9c-7362-494e-a0d5-afc9dd75b938",
   "metadata": {},
   "outputs": [],
   "source": [
    "from sklearn.preprocessing import LabelEncoder\n",
    "encoder=LabelEncoder()\n",
    "y=encoder.fit_transform(y)"
   ]
  },
  {
   "cell_type": "code",
   "execution_count": 29,
   "id": "7f850f46-1b64-4f02-acd3-371ce6802b26",
   "metadata": {},
   "outputs": [
    {
     "data": {
      "text/plain": [
       "array([1, 1, 1, ..., 0, 0, 1])"
      ]
     },
     "execution_count": 29,
     "metadata": {},
     "output_type": "execute_result"
    }
   ],
   "source": [
    "y"
   ]
  },
  {
   "cell_type": "markdown",
   "id": "9a44ebc0-eb93-4eb3-add6-a98fa1344652",
   "metadata": {},
   "source": [
    "#### Splittig the data"
   ]
  },
  {
   "cell_type": "code",
   "execution_count": 30,
   "id": "a40e3ce2-8b94-4da9-8a3a-ddac0378f87c",
   "metadata": {},
   "outputs": [],
   "source": [
    "from sklearn.model_selection import train_test_split\n",
    "X_train, X_test, y_train,y_test=train_test_split(x,y,test_size=0.2,random_state=1)"
   ]
  },
  {
   "cell_type": "code",
   "execution_count": 31,
   "id": "9548e052-f22c-48f6-8a70-ce10770625fc",
   "metadata": {},
   "outputs": [
    {
     "data": {
      "text/plain": [
       "(7986, 1)"
      ]
     },
     "execution_count": 31,
     "metadata": {},
     "output_type": "execute_result"
    }
   ],
   "source": [
    "X_train.shape"
   ]
  },
  {
   "cell_type": "markdown",
   "id": "70fb9d49-573f-4f9d-9b25-5655531f399a",
   "metadata": {},
   "source": [
    "### Applying_BOW"
   ]
  },
  {
   "cell_type": "code",
   "execution_count": 32,
   "id": "51f66316-a98a-45a5-b61b-dacd5b4ec05d",
   "metadata": {},
   "outputs": [],
   "source": [
    "from sklearn.feature_extraction.text import CountVectorizer\n"
   ]
  },
  {
   "cell_type": "code",
   "execution_count": 33,
   "id": "80057c91-a30f-4f1a-82dd-f324ba59d6b1",
   "metadata": {},
   "outputs": [],
   "source": [
    "cv=CountVectorizer()"
   ]
  },
  {
   "cell_type": "code",
   "execution_count": 34,
   "id": "5641501f-910f-4910-85ba-78960fc29189",
   "metadata": {},
   "outputs": [],
   "source": [
    "X_train_bow=cv.fit_transform(X_train['review']).toarray()\n",
    "X_test_bow=cv.transform(X_test['review']).toarray()"
   ]
  },
  {
   "cell_type": "code",
   "execution_count": 35,
   "id": "7c8e1313-5e2e-492e-a846-a02a02b259b3",
   "metadata": {},
   "outputs": [
    {
     "data": {
      "text/plain": [
       "(7986, 48282)"
      ]
     },
     "execution_count": 35,
     "metadata": {},
     "output_type": "execute_result"
    }
   ],
   "source": [
    "X_train_bow.shape"
   ]
  },
  {
   "cell_type": "markdown",
   "id": "55892d79-49a6-4fe0-aca4-f77bc534d6b3",
   "metadata": {},
   "source": [
    "- Created a 48282 features using Countvectorizer"
   ]
  },
  {
   "cell_type": "markdown",
   "id": "daceac82-f729-4069-aa21-c10a1235e66d",
   "metadata": {},
   "source": [
    "<hr>"
   ]
  },
  {
   "cell_type": "markdown",
   "id": "3a14d212-cdf2-4a88-9325-14c6d69d57dd",
   "metadata": {},
   "source": [
    "#### Using Naive Bayes"
   ]
  },
  {
   "cell_type": "code",
   "execution_count": 36,
   "id": "c9591366-a545-4fad-9b98-737aeb5fa2b4",
   "metadata": {},
   "outputs": [
    {
     "data": {
      "text/html": [
       "<style>#sk-container-id-1 {color: black;background-color: white;}#sk-container-id-1 pre{padding: 0;}#sk-container-id-1 div.sk-toggleable {background-color: white;}#sk-container-id-1 label.sk-toggleable__label {cursor: pointer;display: block;width: 100%;margin-bottom: 0;padding: 0.3em;box-sizing: border-box;text-align: center;}#sk-container-id-1 label.sk-toggleable__label-arrow:before {content: \"▸\";float: left;margin-right: 0.25em;color: #696969;}#sk-container-id-1 label.sk-toggleable__label-arrow:hover:before {color: black;}#sk-container-id-1 div.sk-estimator:hover label.sk-toggleable__label-arrow:before {color: black;}#sk-container-id-1 div.sk-toggleable__content {max-height: 0;max-width: 0;overflow: hidden;text-align: left;background-color: #f0f8ff;}#sk-container-id-1 div.sk-toggleable__content pre {margin: 0.2em;color: black;border-radius: 0.25em;background-color: #f0f8ff;}#sk-container-id-1 input.sk-toggleable__control:checked~div.sk-toggleable__content {max-height: 200px;max-width: 100%;overflow: auto;}#sk-container-id-1 input.sk-toggleable__control:checked~label.sk-toggleable__label-arrow:before {content: \"▾\";}#sk-container-id-1 div.sk-estimator input.sk-toggleable__control:checked~label.sk-toggleable__label {background-color: #d4ebff;}#sk-container-id-1 div.sk-label input.sk-toggleable__control:checked~label.sk-toggleable__label {background-color: #d4ebff;}#sk-container-id-1 input.sk-hidden--visually {border: 0;clip: rect(1px 1px 1px 1px);clip: rect(1px, 1px, 1px, 1px);height: 1px;margin: -1px;overflow: hidden;padding: 0;position: absolute;width: 1px;}#sk-container-id-1 div.sk-estimator {font-family: monospace;background-color: #f0f8ff;border: 1px dotted black;border-radius: 0.25em;box-sizing: border-box;margin-bottom: 0.5em;}#sk-container-id-1 div.sk-estimator:hover {background-color: #d4ebff;}#sk-container-id-1 div.sk-parallel-item::after {content: \"\";width: 100%;border-bottom: 1px solid gray;flex-grow: 1;}#sk-container-id-1 div.sk-label:hover label.sk-toggleable__label {background-color: #d4ebff;}#sk-container-id-1 div.sk-serial::before {content: \"\";position: absolute;border-left: 1px solid gray;box-sizing: border-box;top: 0;bottom: 0;left: 50%;z-index: 0;}#sk-container-id-1 div.sk-serial {display: flex;flex-direction: column;align-items: center;background-color: white;padding-right: 0.2em;padding-left: 0.2em;position: relative;}#sk-container-id-1 div.sk-item {position: relative;z-index: 1;}#sk-container-id-1 div.sk-parallel {display: flex;align-items: stretch;justify-content: center;background-color: white;position: relative;}#sk-container-id-1 div.sk-item::before, #sk-container-id-1 div.sk-parallel-item::before {content: \"\";position: absolute;border-left: 1px solid gray;box-sizing: border-box;top: 0;bottom: 0;left: 50%;z-index: -1;}#sk-container-id-1 div.sk-parallel-item {display: flex;flex-direction: column;z-index: 1;position: relative;background-color: white;}#sk-container-id-1 div.sk-parallel-item:first-child::after {align-self: flex-end;width: 50%;}#sk-container-id-1 div.sk-parallel-item:last-child::after {align-self: flex-start;width: 50%;}#sk-container-id-1 div.sk-parallel-item:only-child::after {width: 0;}#sk-container-id-1 div.sk-dashed-wrapped {border: 1px dashed gray;margin: 0 0.4em 0.5em 0.4em;box-sizing: border-box;padding-bottom: 0.4em;background-color: white;}#sk-container-id-1 div.sk-label label {font-family: monospace;font-weight: bold;display: inline-block;line-height: 1.2em;}#sk-container-id-1 div.sk-label-container {text-align: center;}#sk-container-id-1 div.sk-container {/* jupyter's `normalize.less` sets `[hidden] { display: none; }` but bootstrap.min.css set `[hidden] { display: none !important; }` so we also need the `!important` here to be able to override the default hidden behavior on the sphinx rendered scikit-learn.org. See: https://github.com/scikit-learn/scikit-learn/issues/21755 */display: inline-block !important;position: relative;}#sk-container-id-1 div.sk-text-repr-fallback {display: none;}</style><div id=\"sk-container-id-1\" class=\"sk-top-container\"><div class=\"sk-text-repr-fallback\"><pre>GaussianNB()</pre><b>In a Jupyter environment, please rerun this cell to show the HTML representation or trust the notebook. <br />On GitHub, the HTML representation is unable to render, please try loading this page with nbviewer.org.</b></div><div class=\"sk-container\" hidden><div class=\"sk-item\"><div class=\"sk-estimator sk-toggleable\"><input class=\"sk-toggleable__control sk-hidden--visually\" id=\"sk-estimator-id-1\" type=\"checkbox\" checked><label for=\"sk-estimator-id-1\" class=\"sk-toggleable__label sk-toggleable__label-arrow\">GaussianNB</label><div class=\"sk-toggleable__content\"><pre>GaussianNB()</pre></div></div></div></div></div>"
      ],
      "text/plain": [
       "GaussianNB()"
      ]
     },
     "execution_count": 36,
     "metadata": {},
     "output_type": "execute_result"
    }
   ],
   "source": [
    "from sklearn.naive_bayes import GaussianNB\n",
    "gnb=GaussianNB()\n",
    "gnb.fit(X_train_bow,y_train)"
   ]
  },
  {
   "cell_type": "code",
   "execution_count": 38,
   "id": "97202093-07aa-49cb-84b7-70c26e6fa247",
   "metadata": {},
   "outputs": [
    {
     "data": {
      "text/plain": [
       "0.6324486730095142"
      ]
     },
     "execution_count": 38,
     "metadata": {},
     "output_type": "execute_result"
    }
   ],
   "source": [
    "y_pred=gnb.predict(X_test_bow)\n",
    "\n",
    "from sklearn.metrics import accuracy_score,confusion_matrix\n",
    "accuracy_score(y_test,y_pred)"
   ]
  },
  {
   "cell_type": "code",
   "execution_count": 39,
   "id": "b6a6dbdf-f056-4cce-a31b-a9a6e21d4496",
   "metadata": {},
   "outputs": [
    {
     "data": {
      "text/plain": [
       "array([[717, 235],\n",
       "       [499, 546]], dtype=int64)"
      ]
     },
     "execution_count": 39,
     "metadata": {},
     "output_type": "execute_result"
    }
   ],
   "source": [
    "confusion_matrix(y_test,y_pred)"
   ]
  },
  {
   "cell_type": "markdown",
   "id": "11ebe57a-0c99-4cf9-8908-995792a75c0f",
   "metadata": {},
   "source": [
    "#### Using RandomForest Classifier"
   ]
  },
  {
   "cell_type": "code",
   "execution_count": 40,
   "id": "495d5803-53e9-4abc-9d6d-254e540e13fa",
   "metadata": {},
   "outputs": [
    {
     "data": {
      "text/plain": [
       "0.8387581372058087"
      ]
     },
     "execution_count": 40,
     "metadata": {},
     "output_type": "execute_result"
    }
   ],
   "source": [
    "from sklearn.ensemble import RandomForestClassifier\n",
    "rf=RandomForestClassifier()\n",
    "\n",
    "rf.fit(X_train_bow,y_train)\n",
    "y_pred=rf.predict(X_test_bow)\n",
    "accuracy_score(y_test,y_pred)"
   ]
  },
  {
   "cell_type": "code",
   "execution_count": 35,
   "id": "963a35a6-4aaf-48ba-a9d2-7d836f87a858",
   "metadata": {},
   "outputs": [
    {
     "data": {
      "text/plain": [
       "0.8412618928392589"
      ]
     },
     "execution_count": 35,
     "metadata": {},
     "output_type": "execute_result"
    }
   ],
   "source": [
    "cv=CountVectorizer(max_features=3000)\n",
    "X_train_bow = cv.fit_transform(X_train['review']).toarray()\n",
    "X_test_bow = cv.transform(X_test['review']).toarray()\n",
    "\n",
    "rf = RandomForestClassifier()\n",
    "\n",
    "rf.fit(X_train_bow,y_train)\n",
    "y_pred = rf.predict(X_test_bow)\n",
    "accuracy_score(y_test,y_pred)"
   ]
  },
  {
   "cell_type": "markdown",
   "id": "32c44109-f5ff-4d8a-b925-5255a6ba43b4",
   "metadata": {},
   "source": [
    "#### Using n-gram"
   ]
  },
  {
   "cell_type": "code",
   "execution_count": 36,
   "id": "357ec653-ec2d-4754-afd0-bdec65aa5594",
   "metadata": {},
   "outputs": [
    {
     "data": {
      "text/plain": [
       "0.8452679018527791"
      ]
     },
     "execution_count": 36,
     "metadata": {},
     "output_type": "execute_result"
    }
   ],
   "source": [
    "cv=CountVectorizer(ngram_range=(1,2),max_features=5000)\n",
    "\n",
    "X_train_bow=cv.fit_transform(X_train['review']).toarray()\n",
    "X_test_bow=cv.transform(X_test['review']).toarray()\n",
    "\n",
    "rf=RandomForestClassifier()\n",
    "\n",
    "rf.fit(X_train_bow,y_train)\n",
    "y_pred=rf.predict(X_test_bow)\n",
    "accuracy_score(y_test,y_pred)"
   ]
  },
  {
   "cell_type": "markdown",
   "id": "07177264-eb12-49dd-878e-f1be2f212335",
   "metadata": {},
   "source": [
    "#### Using TF-IDF"
   ]
  },
  {
   "cell_type": "code",
   "execution_count": 37,
   "id": "16e0fb55-cef4-481b-af19-02f323f95c59",
   "metadata": {},
   "outputs": [],
   "source": [
    "from sklearn.feature_extraction.text import TfidfVectorizer\n"
   ]
  },
  {
   "cell_type": "code",
   "execution_count": 38,
   "id": "db6f9296-3bc3-45d6-8b21-aa05d50d79e4",
   "metadata": {},
   "outputs": [],
   "source": [
    "tfidf=TfidfVectorizer()"
   ]
  },
  {
   "cell_type": "code",
   "execution_count": 39,
   "id": "5f0fba0e-ab82-4fbf-a3cb-ebd724344991",
   "metadata": {},
   "outputs": [],
   "source": [
    "X_train_tfidf=tfidf.fit_transform(X_train['review']).toarray()\n",
    "X_test_tfidf=tfidf.transform(X_test['review'])"
   ]
  },
  {
   "cell_type": "code",
   "execution_count": 40,
   "id": "245798d9-1e5a-4d7e-a57c-3c08ed946499",
   "metadata": {},
   "outputs": [
    {
     "data": {
      "text/plain": [
       "0.8507761642463696"
      ]
     },
     "execution_count": 40,
     "metadata": {},
     "output_type": "execute_result"
    }
   ],
   "source": [
    "rf=RandomForestClassifier()\n",
    "rf.fit(X_train_tfidf,y_train)\n",
    "y_pred=rf.predict(X_test_tfidf)\n",
    "accuracy_score(y_test,y_pred)"
   ]
  },
  {
   "cell_type": "markdown",
   "id": "b2f5751c-61aa-4a85-b9a9-031e1f84ced3",
   "metadata": {},
   "source": [
    "### Using Word2Vec"
   ]
  },
  {
   "cell_type": "code",
   "execution_count": 41,
   "id": "f94faa85-9851-4307-94c6-6949820e4f73",
   "metadata": {},
   "outputs": [],
   "source": [
    " import gensim"
   ]
  },
  {
   "cell_type": "code",
   "execution_count": 42,
   "id": "433d8823-b376-4b02-a7bf-cf4444c1c929",
   "metadata": {},
   "outputs": [],
   "source": [
    "from gensim.models import Word2Vec, KeyedVectors"
   ]
  },
  {
   "cell_type": "code",
   "execution_count": 43,
   "id": "af34b942-8c37-4404-98a1-33f303707f7a",
   "metadata": {},
   "outputs": [],
   "source": [
    "# Load the Google News vectors\n",
    "model = KeyedVectors.load_word2vec_format('GoogleNews-vectors-negative300.bin.gz', binary=True,limit=500000)"
   ]
  },
  {
   "cell_type": "code",
   "execution_count": 44,
   "id": "e74da0cb-5e97-4071-a589-32275fa557d0",
   "metadata": {},
   "outputs": [],
   "source": [
    "word_vector = model['king']"
   ]
  },
  {
   "cell_type": "code",
   "execution_count": 45,
   "id": "35bf855d-c7db-448e-88fe-2bec48ed3db9",
   "metadata": {},
   "outputs": [
    {
     "data": {
      "text/plain": [
       "array([ 1.25976562e-01,  2.97851562e-02,  8.60595703e-03,  1.39648438e-01,\n",
       "       -2.56347656e-02, -3.61328125e-02,  1.11816406e-01, -1.98242188e-01,\n",
       "        5.12695312e-02,  3.63281250e-01, -2.42187500e-01, -3.02734375e-01,\n",
       "       -1.77734375e-01, -2.49023438e-02, -1.67968750e-01, -1.69921875e-01,\n",
       "        3.46679688e-02,  5.21850586e-03,  4.63867188e-02,  1.28906250e-01,\n",
       "        1.36718750e-01,  1.12792969e-01,  5.95703125e-02,  1.36718750e-01,\n",
       "        1.01074219e-01, -1.76757812e-01, -2.51953125e-01,  5.98144531e-02,\n",
       "        3.41796875e-01, -3.11279297e-02,  1.04492188e-01,  6.17675781e-02,\n",
       "        1.24511719e-01,  4.00390625e-01, -3.22265625e-01,  8.39843750e-02,\n",
       "        3.90625000e-02,  5.85937500e-03,  7.03125000e-02,  1.72851562e-01,\n",
       "        1.38671875e-01, -2.31445312e-01,  2.83203125e-01,  1.42578125e-01,\n",
       "        3.41796875e-01, -2.39257812e-02, -1.09863281e-01,  3.32031250e-02,\n",
       "       -5.46875000e-02,  1.53198242e-02, -1.62109375e-01,  1.58203125e-01,\n",
       "       -2.59765625e-01,  2.01416016e-02, -1.63085938e-01,  1.35803223e-03,\n",
       "       -1.44531250e-01, -5.68847656e-02,  4.29687500e-02, -2.46582031e-02,\n",
       "        1.85546875e-01,  4.47265625e-01,  9.58251953e-03,  1.31835938e-01,\n",
       "        9.86328125e-02, -1.85546875e-01, -1.00097656e-01, -1.33789062e-01,\n",
       "       -1.25000000e-01,  2.83203125e-01,  1.23046875e-01,  5.32226562e-02,\n",
       "       -1.77734375e-01,  8.59375000e-02, -2.18505859e-02,  2.05078125e-02,\n",
       "       -1.39648438e-01,  2.51464844e-02,  1.38671875e-01, -1.05468750e-01,\n",
       "        1.38671875e-01,  8.88671875e-02, -7.51953125e-02, -2.13623047e-02,\n",
       "        1.72851562e-01,  4.63867188e-02, -2.65625000e-01,  8.91113281e-03,\n",
       "        1.49414062e-01,  3.78417969e-02,  2.38281250e-01, -1.24511719e-01,\n",
       "       -2.17773438e-01, -1.81640625e-01,  2.97851562e-02,  5.71289062e-02,\n",
       "       -2.89306641e-02,  1.24511719e-02,  9.66796875e-02, -2.31445312e-01,\n",
       "        5.81054688e-02,  6.68945312e-02,  7.08007812e-02, -3.08593750e-01,\n",
       "       -2.14843750e-01,  1.45507812e-01, -4.27734375e-01, -9.39941406e-03,\n",
       "        1.54296875e-01, -7.66601562e-02,  2.89062500e-01,  2.77343750e-01,\n",
       "       -4.86373901e-04, -1.36718750e-01,  3.24218750e-01, -2.46093750e-01,\n",
       "       -3.03649902e-03, -2.11914062e-01,  1.25000000e-01,  2.69531250e-01,\n",
       "        2.04101562e-01,  8.25195312e-02, -2.01171875e-01, -1.60156250e-01,\n",
       "       -3.78417969e-02, -1.20117188e-01,  1.15234375e-01, -4.10156250e-02,\n",
       "       -3.95507812e-02, -8.98437500e-02,  6.34765625e-03,  2.03125000e-01,\n",
       "        1.86523438e-01,  2.73437500e-01,  6.29882812e-02,  1.41601562e-01,\n",
       "       -9.81445312e-02,  1.38671875e-01,  1.82617188e-01,  1.73828125e-01,\n",
       "        1.73828125e-01, -2.37304688e-01,  1.78710938e-01,  6.34765625e-02,\n",
       "        2.36328125e-01, -2.08984375e-01,  8.74023438e-02, -1.66015625e-01,\n",
       "       -7.91015625e-02,  2.43164062e-01, -8.88671875e-02,  1.26953125e-01,\n",
       "       -2.16796875e-01, -1.73828125e-01, -3.59375000e-01, -8.25195312e-02,\n",
       "       -6.49414062e-02,  5.07812500e-02,  1.35742188e-01, -7.47070312e-02,\n",
       "       -1.64062500e-01,  1.15356445e-02,  4.45312500e-01, -2.15820312e-01,\n",
       "       -1.11328125e-01, -1.92382812e-01,  1.70898438e-01, -1.25000000e-01,\n",
       "        2.65502930e-03,  1.92382812e-01, -1.74804688e-01,  1.39648438e-01,\n",
       "        2.92968750e-01,  1.13281250e-01,  5.95703125e-02, -6.39648438e-02,\n",
       "        9.96093750e-02, -2.72216797e-02,  1.96533203e-02,  4.27246094e-02,\n",
       "       -2.46093750e-01,  6.39648438e-02, -2.25585938e-01, -1.68945312e-01,\n",
       "        2.89916992e-03,  8.20312500e-02,  3.41796875e-01,  4.32128906e-02,\n",
       "        1.32812500e-01,  1.42578125e-01,  7.61718750e-02,  5.98144531e-02,\n",
       "       -1.19140625e-01,  2.74658203e-03, -6.29882812e-02, -2.72216797e-02,\n",
       "       -4.82177734e-03, -8.20312500e-02, -2.49023438e-02, -4.00390625e-01,\n",
       "       -1.06933594e-01,  4.24804688e-02,  7.76367188e-02, -1.16699219e-01,\n",
       "        7.37304688e-02, -9.22851562e-02,  1.07910156e-01,  1.58203125e-01,\n",
       "        4.24804688e-02,  1.26953125e-01,  3.61328125e-02,  2.67578125e-01,\n",
       "       -1.01074219e-01, -3.02734375e-01, -5.76171875e-02,  5.05371094e-02,\n",
       "        5.26428223e-04, -2.07031250e-01, -1.38671875e-01, -8.97216797e-03,\n",
       "       -2.78320312e-02, -1.41601562e-01,  2.07031250e-01, -1.58203125e-01,\n",
       "        1.27929688e-01,  1.49414062e-01, -2.24609375e-02, -8.44726562e-02,\n",
       "        1.22558594e-01,  2.15820312e-01, -2.13867188e-01, -3.12500000e-01,\n",
       "       -3.73046875e-01,  4.08935547e-03,  1.07421875e-01,  1.06933594e-01,\n",
       "        7.32421875e-02,  8.97216797e-03, -3.88183594e-02, -1.29882812e-01,\n",
       "        1.49414062e-01, -2.14843750e-01, -1.83868408e-03,  9.91210938e-02,\n",
       "        1.57226562e-01, -1.14257812e-01, -2.05078125e-01,  9.91210938e-02,\n",
       "        3.69140625e-01, -1.97265625e-01,  3.54003906e-02,  1.09375000e-01,\n",
       "        1.31835938e-01,  1.66992188e-01,  2.35351562e-01,  1.04980469e-01,\n",
       "       -4.96093750e-01, -1.64062500e-01, -1.56250000e-01, -5.22460938e-02,\n",
       "        1.03027344e-01,  2.43164062e-01, -1.88476562e-01,  5.07812500e-02,\n",
       "       -9.37500000e-02, -6.68945312e-02,  2.27050781e-02,  7.61718750e-02,\n",
       "        2.89062500e-01,  3.10546875e-01, -5.37109375e-02,  2.28515625e-01,\n",
       "        2.51464844e-02,  6.78710938e-02, -1.21093750e-01, -2.15820312e-01,\n",
       "       -2.73437500e-01, -3.07617188e-02, -3.37890625e-01,  1.53320312e-01,\n",
       "        2.33398438e-01, -2.08007812e-01,  3.73046875e-01,  8.20312500e-02,\n",
       "        2.51953125e-01, -7.61718750e-02, -4.66308594e-02, -2.23388672e-02,\n",
       "        2.99072266e-02, -5.93261719e-02, -4.66918945e-03, -2.44140625e-01,\n",
       "       -2.09960938e-01, -2.87109375e-01, -4.54101562e-02, -1.77734375e-01,\n",
       "       -2.79296875e-01, -8.59375000e-02,  9.13085938e-02,  2.51953125e-01],\n",
       "      dtype=float32)"
      ]
     },
     "execution_count": 45,
     "metadata": {},
     "output_type": "execute_result"
    }
   ],
   "source": [
    "word_vector"
   ]
  },
  {
   "cell_type": "code",
   "execution_count": 46,
   "id": "726d34d1-58e7-4870-8e6e-3a878e323bb9",
   "metadata": {},
   "outputs": [],
   "source": [
    "similar_words = model.most_similar(positive=['king'], topn=10)"
   ]
  },
  {
   "cell_type": "code",
   "execution_count": 47,
   "id": "24e1368c-9133-4251-ab89-0060f3ceee04",
   "metadata": {},
   "outputs": [
    {
     "data": {
      "text/plain": [
       "[('kings', 0.7138045430183411),\n",
       " ('queen', 0.6510956883430481),\n",
       " ('monarch', 0.6413194537162781),\n",
       " ('crown_prince', 0.6204220056533813),\n",
       " ('prince', 0.6159993410110474),\n",
       " ('sultan', 0.5864824056625366),\n",
       " ('ruler', 0.5797567367553711),\n",
       " ('princes', 0.5646552443504333),\n",
       " ('throne', 0.5422105193138123),\n",
       " ('royal', 0.5239794254302979)]"
      ]
     },
     "execution_count": 47,
     "metadata": {},
     "output_type": "execute_result"
    }
   ],
   "source": [
    "similar_words"
   ]
  },
  {
   "cell_type": "code",
   "execution_count": 48,
   "id": "88940dba-1aab-4f87-af93-82bd432db255",
   "metadata": {},
   "outputs": [
    {
     "data": {
      "text/plain": [
       "(300,)"
      ]
     },
     "execution_count": 48,
     "metadata": {},
     "output_type": "execute_result"
    }
   ],
   "source": [
    "model['cricket'].shape"
   ]
  },
  {
   "cell_type": "code",
   "execution_count": 49,
   "id": "d1bccbeb-b7d5-47ae-956c-1a7c96b65007",
   "metadata": {},
   "outputs": [],
   "source": [
    "from nltk.corpus import stopwords\n",
    "sw_list=stopwords.words('english')\n"
   ]
  },
  {
   "cell_type": "code",
   "execution_count": 50,
   "id": "d57780dc-f081-402e-8def-7a493c7c69f2",
   "metadata": {},
   "outputs": [],
   "source": [
    "# remove stopords\n",
    "X_train=X_train['review'].apply(lambda x: [item for item in x.split() if item not in sw_list]).apply(lambda x:\" \".join(x))\n",
    "\n",
    "X_test=X_test['review'].apply(lambda x:[item for item in x.split() if item not in sw_list]).apply(lambda x:\" \".join(x))"
   ]
  },
  {
   "cell_type": "code",
   "execution_count": 51,
   "id": "16188ba0-4179-4a0a-a5f1-3035e7d304d6",
   "metadata": {},
   "outputs": [
    {
     "name": "stdout",
     "output_type": "stream",
     "text": [
      "[-9.38924626e-02 -3.84084344e-01  5.38174808e-02 -5.68839815e-03\n",
      "  5.53607009e-02  4.34335917e-01  1.12127282e-01  3.69744062e-01\n",
      "  2.90832311e-01 -1.70808136e-01  2.64332980e-01 -1.62290543e-01\n",
      " -3.06538224e-01 -2.85405099e-01 -1.81089625e-01  1.67842567e-01\n",
      " -5.53924069e-02 -2.39561155e-01 -9.84708741e-02 -2.47755840e-01\n",
      " -1.03777826e-01  3.14559907e-01 -1.58189446e-01  9.29157138e-02\n",
      " -6.30339906e-02  1.74012944e-01  2.98766553e-01  6.10951722e-01\n",
      "  2.79511511e-01  6.51886985e-02 -5.98237105e-02 -1.00067459e-01\n",
      "  2.43561059e-01 -5.19757196e-02  1.00620603e-02 -1.06087245e-01\n",
      "  2.54588515e-01 -9.97592583e-02 -1.51748762e-01 -2.58460432e-01\n",
      " -3.79791379e-01  1.97484657e-01 -5.39284982e-02  4.59246263e-02\n",
      " -4.72242162e-02 -1.32725611e-01  2.24066466e-01 -1.11504689e-01\n",
      "  2.12011918e-01  1.45252958e-01 -3.38403374e-01  1.08032361e-01\n",
      "  7.14340210e-02 -1.43950149e-01 -4.83557396e-02  7.11817760e-03\n",
      "  2.28908435e-01 -6.45604953e-02  1.57704279e-02 -2.28218064e-02\n",
      "  8.61754715e-02 -1.64328739e-01 -7.21118450e-02 -7.97133595e-02\n",
      "  2.00499417e-04 -5.29535115e-02 -1.44238144e-01 -3.27309817e-02\n",
      "  6.59468025e-03 -1.22399136e-01  3.74989033e-01  1.28906965e-01\n",
      "  2.20387876e-01 -3.08735728e-01  1.86388046e-01 -2.96011828e-02\n",
      " -1.68676212e-01 -5.05038142e-01  9.15190279e-02 -5.95294476e-01\n",
      "  1.50448615e-02 -2.14714736e-01 -3.05761933e-01 -1.78704411e-02\n",
      " -4.93586026e-02  1.67842969e-01  4.33267765e-02  7.18483105e-02\n",
      " -4.18931723e-01  3.61408800e-01 -4.22669388e-02  2.96707824e-02\n",
      "  6.46485746e-01  4.17760640e-01 -1.66291088e-01  1.06432669e-01]\n"
     ]
    }
   ],
   "source": [
    "import spacy \n",
    "import en_core_web_sm\n",
    "\n",
    "# load the spacy model\n",
    "nlp=en_core_web_sm.load()\n",
    "\n",
    "# process sentence using model\n",
    "doc=nlp(X_train.values[0])\n",
    "\n",
    "print(doc.vector)"
   ]
  },
  {
   "cell_type": "code",
   "execution_count": 52,
   "id": "1fa9dcd1-9824-4e64-b97c-30031d1bbfca",
   "metadata": {},
   "outputs": [
    {
     "name": "stdout",
     "output_type": "stream",
     "text": [
      "^C\n"
     ]
    }
   ],
   "source": [
    "!pip install https://github.com/explosion/spacy-models/releases/download/en_core_web_sm-3.0.0/en_core_web_sm-3.0.0.tar.gz\n"
   ]
  },
  {
   "cell_type": "code",
   "execution_count": 1,
   "id": "ae55f94d-efd4-4c45-808f-6e22b4004625",
   "metadata": {},
   "outputs": [
    {
     "name": "stdout",
     "output_type": "stream",
     "text": [
      "Collecting en-core-web-sm==3.7.1\n",
      "  Downloading https://github.com/explosion/spacy-models/releases/download/en_core_web_sm-3.7.1/en_core_web_sm-3.7.1-py3-none-any.whl (12.8 MB)\n",
      "     ---------------------------------------- 0.0/12.8 MB ? eta -:--:--\n",
      "     ---------------------------------------- 0.0/12.8 MB ? eta -:--:--\n",
      "     --------------------------------------- 0.1/12.8 MB 656.4 kB/s eta 0:00:20\n",
      "     --------------------------------------- 0.1/12.8 MB 655.4 kB/s eta 0:00:20\n",
      "      -------------------------------------- 0.2/12.8 MB 980.4 kB/s eta 0:00:13\n",
      "      --------------------------------------- 0.3/12.8 MB 1.3 MB/s eta 0:00:10\n",
      "     - -------------------------------------- 0.4/12.8 MB 1.2 MB/s eta 0:00:11\n",
      "     - -------------------------------------- 0.4/12.8 MB 1.3 MB/s eta 0:00:10\n",
      "     - -------------------------------------- 0.6/12.8 MB 1.3 MB/s eta 0:00:10\n",
      "     - -------------------------------------- 0.6/12.8 MB 1.3 MB/s eta 0:00:10\n",
      "     -- ------------------------------------- 0.7/12.8 MB 1.3 MB/s eta 0:00:10\n",
      "     -- ------------------------------------- 0.8/12.8 MB 1.3 MB/s eta 0:00:09\n",
      "     -- ------------------------------------- 0.9/12.8 MB 1.4 MB/s eta 0:00:09\n",
      "     --- ------------------------------------ 1.0/12.8 MB 1.4 MB/s eta 0:00:09\n",
      "     --- ------------------------------------ 1.1/12.8 MB 1.5 MB/s eta 0:00:08\n",
      "     --- ------------------------------------ 1.2/12.8 MB 1.5 MB/s eta 0:00:08\n",
      "     ---- ----------------------------------- 1.4/12.8 MB 1.6 MB/s eta 0:00:08\n",
      "     ---- ----------------------------------- 1.5/12.8 MB 1.7 MB/s eta 0:00:07\n",
      "     ----- ---------------------------------- 1.6/12.8 MB 1.7 MB/s eta 0:00:07\n",
      "     ----- ---------------------------------- 1.8/12.8 MB 1.8 MB/s eta 0:00:07\n",
      "     ----- ---------------------------------- 1.8/12.8 MB 1.8 MB/s eta 0:00:07\n",
      "     ----- ---------------------------------- 1.9/12.8 MB 1.8 MB/s eta 0:00:07\n",
      "     ------ --------------------------------- 2.0/12.8 MB 1.7 MB/s eta 0:00:07\n",
      "     ------ --------------------------------- 2.0/12.8 MB 1.7 MB/s eta 0:00:07\n",
      "     ------ --------------------------------- 2.1/12.8 MB 1.7 MB/s eta 0:00:07\n",
      "     ------ --------------------------------- 2.2/12.8 MB 1.7 MB/s eta 0:00:07\n",
      "     ------- -------------------------------- 2.3/12.8 MB 1.7 MB/s eta 0:00:07\n",
      "     ------- -------------------------------- 2.3/12.8 MB 1.7 MB/s eta 0:00:07\n",
      "     ------- -------------------------------- 2.4/12.8 MB 1.7 MB/s eta 0:00:07\n",
      "     -------- ------------------------------- 2.6/12.8 MB 1.7 MB/s eta 0:00:06\n",
      "     -------- ------------------------------- 2.7/12.8 MB 1.8 MB/s eta 0:00:06\n",
      "     -------- ------------------------------- 2.9/12.8 MB 1.8 MB/s eta 0:00:06\n",
      "     --------- ------------------------------ 3.0/12.8 MB 1.8 MB/s eta 0:00:06\n",
      "     --------- ------------------------------ 3.1/12.8 MB 1.9 MB/s eta 0:00:06\n",
      "     ---------- ----------------------------- 3.3/12.8 MB 1.9 MB/s eta 0:00:05\n",
      "     ---------- ----------------------------- 3.5/12.8 MB 1.9 MB/s eta 0:00:05\n",
      "     ----------- ---------------------------- 3.5/12.8 MB 1.9 MB/s eta 0:00:05\n",
      "     ----------- ---------------------------- 3.7/12.8 MB 2.0 MB/s eta 0:00:05\n",
      "     ----------- ---------------------------- 3.8/12.8 MB 2.0 MB/s eta 0:00:05\n",
      "     ------------ --------------------------- 3.9/12.8 MB 2.0 MB/s eta 0:00:05\n",
      "     ------------ --------------------------- 4.0/12.8 MB 2.0 MB/s eta 0:00:05\n",
      "     ------------ --------------------------- 4.1/12.8 MB 2.0 MB/s eta 0:00:05\n",
      "     ------------- -------------------------- 4.2/12.8 MB 2.0 MB/s eta 0:00:05\n",
      "     ------------- -------------------------- 4.4/12.8 MB 2.1 MB/s eta 0:00:05\n",
      "     -------------- ------------------------- 4.5/12.8 MB 2.1 MB/s eta 0:00:05\n",
      "     -------------- ------------------------- 4.6/12.8 MB 2.1 MB/s eta 0:00:04\n",
      "     -------------- ------------------------- 4.8/12.8 MB 2.1 MB/s eta 0:00:04\n",
      "     --------------- ------------------------ 4.8/12.8 MB 2.1 MB/s eta 0:00:04\n",
      "     --------------- ------------------------ 4.9/12.8 MB 2.1 MB/s eta 0:00:04\n",
      "     --------------- ------------------------ 4.9/12.8 MB 2.1 MB/s eta 0:00:04\n",
      "     --------------- ------------------------ 5.0/12.8 MB 2.0 MB/s eta 0:00:04\n",
      "     --------------- ------------------------ 5.1/12.8 MB 2.0 MB/s eta 0:00:04\n",
      "     ---------------- ----------------------- 5.2/12.8 MB 2.0 MB/s eta 0:00:04\n",
      "     ---------------- ----------------------- 5.2/12.8 MB 2.0 MB/s eta 0:00:04\n",
      "     ---------------- ----------------------- 5.3/12.8 MB 2.0 MB/s eta 0:00:04\n",
      "     ---------------- ----------------------- 5.4/12.8 MB 2.0 MB/s eta 0:00:04\n",
      "     ---------------- ----------------------- 5.4/12.8 MB 2.0 MB/s eta 0:00:04\n",
      "     ----------------- ---------------------- 5.5/12.8 MB 2.0 MB/s eta 0:00:04\n",
      "     ----------------- ---------------------- 5.6/12.8 MB 2.0 MB/s eta 0:00:04\n",
      "     ----------------- ---------------------- 5.7/12.8 MB 2.0 MB/s eta 0:00:04\n",
      "     ------------------ --------------------- 5.8/12.8 MB 2.0 MB/s eta 0:00:04\n",
      "     ------------------ --------------------- 5.8/12.8 MB 2.0 MB/s eta 0:00:04\n",
      "     ------------------ --------------------- 6.0/12.8 MB 2.0 MB/s eta 0:00:04\n",
      "     ------------------ --------------------- 6.0/12.8 MB 2.0 MB/s eta 0:00:04\n",
      "     ------------------- -------------------- 6.1/12.8 MB 2.0 MB/s eta 0:00:04\n",
      "     ------------------- -------------------- 6.3/12.8 MB 2.0 MB/s eta 0:00:04\n",
      "     ------------------- -------------------- 6.4/12.8 MB 2.0 MB/s eta 0:00:04\n",
      "     -------------------- ------------------- 6.5/12.8 MB 2.0 MB/s eta 0:00:04\n",
      "     -------------------- ------------------- 6.6/12.8 MB 2.0 MB/s eta 0:00:04\n",
      "     -------------------- ------------------- 6.6/12.8 MB 2.0 MB/s eta 0:00:04\n",
      "     -------------------- ------------------- 6.7/12.8 MB 2.0 MB/s eta 0:00:04\n",
      "     --------------------- ------------------ 6.8/12.8 MB 2.0 MB/s eta 0:00:04\n",
      "     --------------------- ------------------ 6.8/12.8 MB 2.0 MB/s eta 0:00:04\n",
      "     --------------------- ------------------ 6.9/12.8 MB 1.9 MB/s eta 0:00:04\n",
      "     --------------------- ------------------ 7.0/12.8 MB 1.9 MB/s eta 0:00:03\n",
      "     ---------------------- ----------------- 7.1/12.8 MB 1.9 MB/s eta 0:00:03\n",
      "     ---------------------- ----------------- 7.1/12.8 MB 1.9 MB/s eta 0:00:03\n",
      "     ---------------------- ----------------- 7.2/12.8 MB 1.9 MB/s eta 0:00:03\n",
      "     ---------------------- ----------------- 7.2/12.8 MB 1.9 MB/s eta 0:00:03\n",
      "     ---------------------- ----------------- 7.3/12.8 MB 1.9 MB/s eta 0:00:03\n",
      "     ----------------------- ---------------- 7.4/12.8 MB 1.9 MB/s eta 0:00:03\n",
      "     ----------------------- ---------------- 7.4/12.8 MB 1.9 MB/s eta 0:00:03\n",
      "     ----------------------- ---------------- 7.5/12.8 MB 1.9 MB/s eta 0:00:03\n",
      "     ----------------------- ---------------- 7.6/12.8 MB 1.9 MB/s eta 0:00:03\n",
      "     ----------------------- ---------------- 7.7/12.8 MB 1.9 MB/s eta 0:00:03\n",
      "     ------------------------ --------------- 7.8/12.8 MB 1.9 MB/s eta 0:00:03\n",
      "     ------------------------ --------------- 7.9/12.8 MB 1.9 MB/s eta 0:00:03\n",
      "     ------------------------ --------------- 7.9/12.8 MB 1.9 MB/s eta 0:00:03\n",
      "     ------------------------- -------------- 8.0/12.8 MB 1.9 MB/s eta 0:00:03\n",
      "     ------------------------- -------------- 8.1/12.8 MB 1.9 MB/s eta 0:00:03\n",
      "     ------------------------- -------------- 8.2/12.8 MB 1.9 MB/s eta 0:00:03\n",
      "     ------------------------- -------------- 8.3/12.8 MB 1.9 MB/s eta 0:00:03\n",
      "     -------------------------- ------------- 8.4/12.8 MB 1.9 MB/s eta 0:00:03\n",
      "     -------------------------- ------------- 8.4/12.8 MB 1.9 MB/s eta 0:00:03\n",
      "     -------------------------- ------------- 8.5/12.8 MB 1.9 MB/s eta 0:00:03\n",
      "     -------------------------- ------------- 8.6/12.8 MB 1.9 MB/s eta 0:00:03\n",
      "     --------------------------- ------------ 8.6/12.8 MB 1.9 MB/s eta 0:00:03\n",
      "     --------------------------- ------------ 8.7/12.8 MB 1.9 MB/s eta 0:00:03\n",
      "     --------------------------- ------------ 8.8/12.8 MB 1.9 MB/s eta 0:00:03\n",
      "     --------------------------- ------------ 8.8/12.8 MB 1.9 MB/s eta 0:00:03\n",
      "     --------------------------- ------------ 8.9/12.8 MB 1.8 MB/s eta 0:00:03\n",
      "     ---------------------------- ----------- 9.1/12.8 MB 1.9 MB/s eta 0:00:03\n",
      "     ---------------------------- ----------- 9.1/12.8 MB 1.9 MB/s eta 0:00:02\n",
      "     ---------------------------- ----------- 9.2/12.8 MB 1.9 MB/s eta 0:00:02\n",
      "     ---------------------------- ----------- 9.3/12.8 MB 1.8 MB/s eta 0:00:02\n",
      "     ----------------------------- ---------- 9.4/12.8 MB 1.9 MB/s eta 0:00:02\n",
      "     ----------------------------- ---------- 9.5/12.8 MB 1.9 MB/s eta 0:00:02\n",
      "     ------------------------------ --------- 9.6/12.8 MB 1.9 MB/s eta 0:00:02\n",
      "     ------------------------------ --------- 9.6/12.8 MB 1.9 MB/s eta 0:00:02\n",
      "     ------------------------------ --------- 9.6/12.8 MB 1.9 MB/s eta 0:00:02\n",
      "     ------------------------------ --------- 9.7/12.8 MB 1.8 MB/s eta 0:00:02\n",
      "     ------------------------------ --------- 9.8/12.8 MB 1.8 MB/s eta 0:00:02\n",
      "     ------------------------------- -------- 10.0/12.8 MB 1.9 MB/s eta 0:00:02\n",
      "     ------------------------------- -------- 10.2/12.8 MB 1.9 MB/s eta 0:00:02\n",
      "     -------------------------------- ------- 10.4/12.8 MB 1.9 MB/s eta 0:00:02\n",
      "     -------------------------------- ------- 10.5/12.8 MB 1.9 MB/s eta 0:00:02\n",
      "     --------------------------------- ------ 10.6/12.8 MB 1.9 MB/s eta 0:00:02\n",
      "     --------------------------------- ------ 10.6/12.8 MB 1.9 MB/s eta 0:00:02\n",
      "     --------------------------------- ------ 10.7/12.8 MB 1.9 MB/s eta 0:00:02\n",
      "     --------------------------------- ------ 10.7/12.8 MB 1.9 MB/s eta 0:00:02\n",
      "     --------------------------------- ------ 10.8/12.8 MB 1.9 MB/s eta 0:00:02\n",
      "     --------------------------------- ------ 10.8/12.8 MB 1.9 MB/s eta 0:00:02\n",
      "     ---------------------------------- ----- 10.9/12.8 MB 1.9 MB/s eta 0:00:01\n",
      "     ---------------------------------- ----- 10.9/12.8 MB 1.9 MB/s eta 0:00:01\n",
      "     ---------------------------------- ----- 11.0/12.8 MB 1.9 MB/s eta 0:00:01\n",
      "     ---------------------------------- ----- 11.0/12.8 MB 1.9 MB/s eta 0:00:01\n",
      "     ---------------------------------- ----- 11.1/12.8 MB 1.9 MB/s eta 0:00:01\n",
      "     ---------------------------------- ----- 11.2/12.8 MB 1.9 MB/s eta 0:00:01\n",
      "     ----------------------------------- ---- 11.3/12.8 MB 1.9 MB/s eta 0:00:01\n",
      "     ----------------------------------- ---- 11.3/12.8 MB 1.9 MB/s eta 0:00:01\n",
      "     ----------------------------------- ---- 11.4/12.8 MB 1.9 MB/s eta 0:00:01\n",
      "     ----------------------------------- ---- 11.5/12.8 MB 1.9 MB/s eta 0:00:01\n",
      "     ------------------------------------ --- 11.6/12.8 MB 1.9 MB/s eta 0:00:01\n",
      "     ------------------------------------ --- 11.7/12.8 MB 1.9 MB/s eta 0:00:01\n",
      "     ------------------------------------ --- 11.7/12.8 MB 1.9 MB/s eta 0:00:01\n",
      "     ------------------------------------ --- 11.8/12.8 MB 1.8 MB/s eta 0:00:01\n",
      "     ------------------------------------- -- 11.9/12.8 MB 1.8 MB/s eta 0:00:01\n",
      "     ------------------------------------- -- 12.0/12.8 MB 1.8 MB/s eta 0:00:01\n",
      "     ------------------------------------- -- 12.1/12.8 MB 1.8 MB/s eta 0:00:01\n",
      "     -------------------------------------- - 12.2/12.8 MB 1.9 MB/s eta 0:00:01\n",
      "     -------------------------------------- - 12.3/12.8 MB 1.9 MB/s eta 0:00:01\n",
      "     -------------------------------------- - 12.4/12.8 MB 1.9 MB/s eta 0:00:01\n",
      "     -------------------------------------- - 12.5/12.8 MB 1.9 MB/s eta 0:00:01\n",
      "     ---------------------------------------  12.5/12.8 MB 1.9 MB/s eta 0:00:01\n",
      "     ---------------------------------------  12.6/12.8 MB 1.9 MB/s eta 0:00:01\n",
      "     ---------------------------------------  12.7/12.8 MB 1.9 MB/s eta 0:00:01\n",
      "     ---------------------------------------  12.7/12.8 MB 1.8 MB/s eta 0:00:01\n",
      "     ---------------------------------------  12.8/12.8 MB 1.8 MB/s eta 0:00:01\n",
      "     ---------------------------------------  12.8/12.8 MB 1.8 MB/s eta 0:00:01\n",
      "     ---------------------------------------- 12.8/12.8 MB 1.8 MB/s eta 0:00:00\n",
      "Requirement already satisfied: spacy<3.8.0,>=3.7.2 in c:\\users\\acer\\anaconda3\\lib\\site-packages (from en-core-web-sm==3.7.1) (3.7.4)\n",
      "Requirement already satisfied: spacy-legacy<3.1.0,>=3.0.11 in c:\\users\\acer\\anaconda3\\lib\\site-packages (from spacy<3.8.0,>=3.7.2->en-core-web-sm==3.7.1) (3.0.12)\n",
      "Requirement already satisfied: spacy-loggers<2.0.0,>=1.0.0 in c:\\users\\acer\\anaconda3\\lib\\site-packages (from spacy<3.8.0,>=3.7.2->en-core-web-sm==3.7.1) (1.0.5)\n",
      "Requirement already satisfied: murmurhash<1.1.0,>=0.28.0 in c:\\users\\acer\\anaconda3\\lib\\site-packages (from spacy<3.8.0,>=3.7.2->en-core-web-sm==3.7.1) (1.0.10)\n",
      "Requirement already satisfied: cymem<2.1.0,>=2.0.2 in c:\\users\\acer\\anaconda3\\lib\\site-packages (from spacy<3.8.0,>=3.7.2->en-core-web-sm==3.7.1) (2.0.8)\n",
      "Requirement already satisfied: preshed<3.1.0,>=3.0.2 in c:\\users\\acer\\anaconda3\\lib\\site-packages (from spacy<3.8.0,>=3.7.2->en-core-web-sm==3.7.1) (3.0.9)\n",
      "Requirement already satisfied: thinc<8.3.0,>=8.2.2 in c:\\users\\acer\\anaconda3\\lib\\site-packages (from spacy<3.8.0,>=3.7.2->en-core-web-sm==3.7.1) (8.2.3)\n",
      "Requirement already satisfied: wasabi<1.2.0,>=0.9.1 in c:\\users\\acer\\anaconda3\\lib\\site-packages (from spacy<3.8.0,>=3.7.2->en-core-web-sm==3.7.1) (1.1.2)\n",
      "Requirement already satisfied: srsly<3.0.0,>=2.4.3 in c:\\users\\acer\\anaconda3\\lib\\site-packages (from spacy<3.8.0,>=3.7.2->en-core-web-sm==3.7.1) (2.4.8)\n",
      "Requirement already satisfied: catalogue<2.1.0,>=2.0.6 in c:\\users\\acer\\anaconda3\\lib\\site-packages (from spacy<3.8.0,>=3.7.2->en-core-web-sm==3.7.1) (2.0.10)\n",
      "Requirement already satisfied: weasel<0.4.0,>=0.1.0 in c:\\users\\acer\\anaconda3\\lib\\site-packages (from spacy<3.8.0,>=3.7.2->en-core-web-sm==3.7.1) (0.3.4)\n",
      "Requirement already satisfied: typer<0.10.0,>=0.3.0 in c:\\users\\acer\\anaconda3\\lib\\site-packages (from spacy<3.8.0,>=3.7.2->en-core-web-sm==3.7.1) (0.9.4)\n",
      "Requirement already satisfied: smart-open<7.0.0,>=5.2.1 in c:\\users\\acer\\anaconda3\\lib\\site-packages (from spacy<3.8.0,>=3.7.2->en-core-web-sm==3.7.1) (5.2.1)\n",
      "Requirement already satisfied: tqdm<5.0.0,>=4.38.0 in c:\\users\\acer\\anaconda3\\lib\\site-packages (from spacy<3.8.0,>=3.7.2->en-core-web-sm==3.7.1) (4.65.0)\n",
      "Requirement already satisfied: requests<3.0.0,>=2.13.0 in c:\\users\\acer\\anaconda3\\lib\\site-packages (from spacy<3.8.0,>=3.7.2->en-core-web-sm==3.7.1) (2.31.0)\n",
      "Requirement already satisfied: pydantic!=1.8,!=1.8.1,<3.0.0,>=1.7.4 in c:\\users\\acer\\anaconda3\\lib\\site-packages (from spacy<3.8.0,>=3.7.2->en-core-web-sm==3.7.1) (1.10.12)\n",
      "Requirement already satisfied: jinja2 in c:\\users\\acer\\anaconda3\\lib\\site-packages (from spacy<3.8.0,>=3.7.2->en-core-web-sm==3.7.1) (3.1.3)\n",
      "Requirement already satisfied: setuptools in c:\\users\\acer\\anaconda3\\lib\\site-packages (from spacy<3.8.0,>=3.7.2->en-core-web-sm==3.7.1) (68.2.2)\n",
      "Requirement already satisfied: packaging>=20.0 in c:\\users\\acer\\anaconda3\\lib\\site-packages (from spacy<3.8.0,>=3.7.2->en-core-web-sm==3.7.1) (23.1)\n",
      "Requirement already satisfied: langcodes<4.0.0,>=3.2.0 in c:\\users\\acer\\anaconda3\\lib\\site-packages (from spacy<3.8.0,>=3.7.2->en-core-web-sm==3.7.1) (3.4.0)\n",
      "Requirement already satisfied: numpy>=1.19.0 in c:\\users\\acer\\anaconda3\\lib\\site-packages (from spacy<3.8.0,>=3.7.2->en-core-web-sm==3.7.1) (1.24.4)\n",
      "Requirement already satisfied: language-data>=1.2 in c:\\users\\acer\\anaconda3\\lib\\site-packages (from langcodes<4.0.0,>=3.2.0->spacy<3.8.0,>=3.7.2->en-core-web-sm==3.7.1) (1.2.0)\n",
      "Requirement already satisfied: typing-extensions>=4.2.0 in c:\\users\\acer\\anaconda3\\lib\\site-packages (from pydantic!=1.8,!=1.8.1,<3.0.0,>=1.7.4->spacy<3.8.0,>=3.7.2->en-core-web-sm==3.7.1) (4.9.0)\n",
      "Requirement already satisfied: charset-normalizer<4,>=2 in c:\\users\\acer\\anaconda3\\lib\\site-packages (from requests<3.0.0,>=2.13.0->spacy<3.8.0,>=3.7.2->en-core-web-sm==3.7.1) (2.0.4)\n",
      "Requirement already satisfied: idna<4,>=2.5 in c:\\users\\acer\\anaconda3\\lib\\site-packages (from requests<3.0.0,>=2.13.0->spacy<3.8.0,>=3.7.2->en-core-web-sm==3.7.1) (3.4)\n",
      "Requirement already satisfied: urllib3<3,>=1.21.1 in c:\\users\\acer\\anaconda3\\lib\\site-packages (from requests<3.0.0,>=2.13.0->spacy<3.8.0,>=3.7.2->en-core-web-sm==3.7.1) (2.0.7)\n",
      "Requirement already satisfied: certifi>=2017.4.17 in c:\\users\\acer\\anaconda3\\lib\\site-packages (from requests<3.0.0,>=2.13.0->spacy<3.8.0,>=3.7.2->en-core-web-sm==3.7.1) (2024.2.2)\n",
      "Requirement already satisfied: blis<0.8.0,>=0.7.8 in c:\\users\\acer\\anaconda3\\lib\\site-packages (from thinc<8.3.0,>=8.2.2->spacy<3.8.0,>=3.7.2->en-core-web-sm==3.7.1) (0.7.11)\n",
      "Requirement already satisfied: confection<1.0.0,>=0.0.1 in c:\\users\\acer\\anaconda3\\lib\\site-packages (from thinc<8.3.0,>=8.2.2->spacy<3.8.0,>=3.7.2->en-core-web-sm==3.7.1) (0.1.4)\n",
      "Requirement already satisfied: colorama in c:\\users\\acer\\anaconda3\\lib\\site-packages (from tqdm<5.0.0,>=4.38.0->spacy<3.8.0,>=3.7.2->en-core-web-sm==3.7.1) (0.4.6)\n",
      "Requirement already satisfied: click<9.0.0,>=7.1.1 in c:\\users\\acer\\anaconda3\\lib\\site-packages (from typer<0.10.0,>=0.3.0->spacy<3.8.0,>=3.7.2->en-core-web-sm==3.7.1) (8.1.7)\n",
      "Requirement already satisfied: cloudpathlib<0.17.0,>=0.7.0 in c:\\users\\acer\\anaconda3\\lib\\site-packages (from weasel<0.4.0,>=0.1.0->spacy<3.8.0,>=3.7.2->en-core-web-sm==3.7.1) (0.16.0)\n",
      "Requirement already satisfied: MarkupSafe>=2.0 in c:\\users\\acer\\anaconda3\\lib\\site-packages (from jinja2->spacy<3.8.0,>=3.7.2->en-core-web-sm==3.7.1) (2.1.3)\n",
      "Requirement already satisfied: marisa-trie>=0.7.7 in c:\\users\\acer\\anaconda3\\lib\\site-packages (from language-data>=1.2->langcodes<4.0.0,>=3.2.0->spacy<3.8.0,>=3.7.2->en-core-web-sm==3.7.1) (1.1.1)\n",
      "\u001b[38;5;2m[+] Download and installation successful\u001b[0m\n",
      "You can now load the package via spacy.load('en_core_web_sm')\n"
     ]
    }
   ],
   "source": [
    "!python -m spacy download en_core_web_sm"
   ]
  },
  {
   "cell_type": "code",
   "execution_count": 53,
   "id": "5ba71335-e523-41f7-9a08-7accd310cdfa",
   "metadata": {},
   "outputs": [],
   "source": [
    "input_arr = []\n",
    "for item in X_train.values:\n",
    "    doc = nlp(item)\n",
    "    input_arr.append(doc.vector)\n"
   ]
  },
  {
   "cell_type": "code",
   "execution_count": 54,
   "id": "3b34fed0-8762-4162-963b-5dd79196d791",
   "metadata": {},
   "outputs": [],
   "source": [
    "input_arr=np.array(input_arr)"
   ]
  },
  {
   "cell_type": "code",
   "execution_count": 55,
   "id": "96488808-4e56-4640-b94a-435016b73d2e",
   "metadata": {},
   "outputs": [
    {
     "data": {
      "text/plain": [
       "(7986, 96)"
      ]
     },
     "execution_count": 55,
     "metadata": {},
     "output_type": "execute_result"
    }
   ],
   "source": [
    "input_arr.shape"
   ]
  },
  {
   "cell_type": "code",
   "execution_count": 56,
   "id": "ad5ebf10-3620-430f-9102-32ff8e95761c",
   "metadata": {},
   "outputs": [
    {
     "name": "stderr",
     "output_type": "stream",
     "text": [
      "  WARNING: Failed to remove contents in a temporary directory 'C:\\Users\\acer\\anaconda3\\Lib\\site-packages\\~ydantic'.\n",
      "  You can safely remove it manually.\n",
      "  WARNING: Failed to remove contents in a temporary directory 'C:\\Users\\acer\\anaconda3\\Lib\\site-packages\\~hinc'.\n",
      "  You can safely remove it manually.\n",
      "  WARNING: Failed to remove contents in a temporary directory 'C:\\Users\\acer\\anaconda3\\Lib\\site-packages\\~pacy'.\n",
      "  You can safely remove it manually.\n",
      "ERROR: pip's dependency resolver does not currently take into account all the packages that are installed. This behaviour is the source of the following dependency conflicts.\n",
      "black 23.11.0 requires click>=8.0.0, but you have click 7.1.2 which is incompatible.\n",
      "conda-index 0.4.0 requires click>=8, but you have click 7.1.2 which is incompatible.\n",
      "dask 2023.11.0 requires click>=8.1, but you have click 7.1.2 which is incompatible.\n",
      "distributed 2023.11.0 requires click>=8.0, but you have click 7.1.2 which is incompatible.\n",
      "flask 2.2.5 requires click>=8.0, but you have click 7.1.2 which is incompatible.\n"
     ]
    },
    {
     "name": "stdout",
     "output_type": "stream",
     "text": [
      "Collecting https://github.com/explosion/spacy-models/releases/download/en_core_web_sm-3.0.0/en_core_web_sm-3.0.0.tar.gz\n",
      "  Downloading https://github.com/explosion/spacy-models/releases/download/en_core_web_sm-3.0.0/en_core_web_sm-3.0.0.tar.gz (13.7 MB)\n",
      "     ---------------------------------------- 0.0/13.7 MB ? eta -:--:--\n",
      "     ---------------------------------------- 0.0/13.7 MB ? eta -:--:--\n",
      "     --------------------------------------- 0.1/13.7 MB 991.0 kB/s eta 0:00:14\n",
      "     --------------------------------------- 0.1/13.7 MB 845.5 kB/s eta 0:00:17\n",
      "     --------------------------------------- 0.1/13.7 MB 787.7 kB/s eta 0:00:18\n",
      "     --------------------------------------- 0.2/13.7 MB 756.6 kB/s eta 0:00:18\n",
      "      -------------------------------------- 0.2/13.7 MB 692.4 kB/s eta 0:00:20\n",
      "      -------------------------------------- 0.2/13.7 MB 718.0 kB/s eta 0:00:19\n",
      "      -------------------------------------- 0.3/13.7 MB 741.6 kB/s eta 0:00:19\n",
      "      -------------------------------------- 0.3/13.7 MB 756.6 kB/s eta 0:00:18\n",
      "     - ------------------------------------- 0.4/13.7 MB 719.3 kB/s eta 0:00:19\n",
      "     - ------------------------------------- 0.4/13.7 MB 752.1 kB/s eta 0:00:18\n",
      "     - ------------------------------------- 0.4/13.7 MB 726.4 kB/s eta 0:00:19\n",
      "     - ------------------------------------- 0.5/13.7 MB 736.0 kB/s eta 0:00:18\n",
      "     - ------------------------------------- 0.6/13.7 MB 721.1 kB/s eta 0:00:19\n",
      "     - ------------------------------------- 0.6/13.7 MB 715.2 kB/s eta 0:00:19\n",
      "     - ------------------------------------- 0.7/13.7 MB 721.9 kB/s eta 0:00:19\n",
      "     -- ------------------------------------ 0.7/13.7 MB 727.0 kB/s eta 0:00:18\n",
      "     -- ------------------------------------ 0.8/13.7 MB 723.7 kB/s eta 0:00:18\n",
      "     -- ------------------------------------ 0.8/13.7 MB 730.8 kB/s eta 0:00:18\n",
      "     -- ------------------------------------ 0.8/13.7 MB 726.4 kB/s eta 0:00:18\n",
      "     -- ------------------------------------ 0.9/13.7 MB 741.9 kB/s eta 0:00:18\n",
      "     -- ------------------------------------ 0.9/13.7 MB 738.5 kB/s eta 0:00:18\n",
      "     -- ------------------------------------ 1.0/13.7 MB 744.7 kB/s eta 0:00:18\n",
      "     -- ------------------------------------ 1.0/13.7 MB 741.5 kB/s eta 0:00:18\n",
      "     -- ------------------------------------ 1.0/13.7 MB 728.3 kB/s eta 0:00:18\n",
      "     --- ----------------------------------- 1.1/13.7 MB 740.0 kB/s eta 0:00:18\n",
      "     --- ----------------------------------- 1.1/13.7 MB 750.3 kB/s eta 0:00:17\n",
      "     --- ----------------------------------- 1.2/13.7 MB 747.3 kB/s eta 0:00:17\n",
      "     --- ----------------------------------- 1.2/13.7 MB 758.5 kB/s eta 0:00:17\n",
      "     --- ----------------------------------- 1.2/13.7 MB 748.2 kB/s eta 0:00:17\n",
      "     --- ----------------------------------- 1.3/13.7 MB 740.5 kB/s eta 0:00:17\n",
      "     --- ----------------------------------- 1.3/13.7 MB 744.1 kB/s eta 0:00:17\n",
      "     --- ----------------------------------- 1.3/13.7 MB 741.7 kB/s eta 0:00:17\n",
      "     --- ----------------------------------- 1.4/13.7 MB 744.5 kB/s eta 0:00:17\n",
      "     ---- ---------------------------------- 1.4/13.7 MB 742.3 kB/s eta 0:00:17\n",
      "     ---- ---------------------------------- 1.4/13.7 MB 745.9 kB/s eta 0:00:17\n",
      "     ---- ---------------------------------- 1.5/13.7 MB 748.4 kB/s eta 0:00:17\n",
      "     ---- ---------------------------------- 1.5/13.7 MB 742.0 kB/s eta 0:00:17\n",
      "     ---- ---------------------------------- 1.6/13.7 MB 744.1 kB/s eta 0:00:17\n",
      "     ---- ---------------------------------- 1.6/13.7 MB 747.7 kB/s eta 0:00:17\n",
      "     ---- ---------------------------------- 1.6/13.7 MB 749.6 kB/s eta 0:00:17\n",
      "     ---- ---------------------------------- 1.7/13.7 MB 757.1 kB/s eta 0:00:16\n",
      "     ---- ---------------------------------- 1.7/13.7 MB 760.0 kB/s eta 0:00:16\n",
      "     ----- --------------------------------- 1.8/13.7 MB 761.8 kB/s eta 0:00:16\n",
      "     ----- --------------------------------- 1.8/13.7 MB 777.9 kB/s eta 0:00:16\n",
      "     ----- --------------------------------- 1.9/13.7 MB 796.9 kB/s eta 0:00:15\n",
      "     ----- --------------------------------- 2.0/13.7 MB 798.4 kB/s eta 0:00:15\n",
      "     ----- --------------------------------- 2.0/13.7 MB 799.7 kB/s eta 0:00:15\n",
      "     ----- --------------------------------- 2.1/13.7 MB 813.2 kB/s eta 0:00:15\n",
      "     ------ -------------------------------- 2.2/13.7 MB 830.2 kB/s eta 0:00:14\n",
      "     ------ -------------------------------- 2.2/13.7 MB 838.7 kB/s eta 0:00:14\n",
      "     ------ -------------------------------- 2.3/13.7 MB 843.1 kB/s eta 0:00:14\n",
      "     ------ -------------------------------- 2.3/13.7 MB 852.4 kB/s eta 0:00:14\n",
      "     ------ -------------------------------- 2.4/13.7 MB 855.5 kB/s eta 0:00:14\n",
      "     ------ -------------------------------- 2.4/13.7 MB 866.7 kB/s eta 0:00:13\n",
      "     ------- ------------------------------- 2.5/13.7 MB 873.9 kB/s eta 0:00:13\n",
      "     ------- ------------------------------- 2.6/13.7 MB 888.0 kB/s eta 0:00:13\n",
      "     ------- ------------------------------- 2.7/13.7 MB 908.5 kB/s eta 0:00:13\n",
      "     ------- ------------------------------- 2.7/13.7 MB 912.8 kB/s eta 0:00:13\n",
      "     ------- ------------------------------- 2.8/13.7 MB 917.0 kB/s eta 0:00:12\n",
      "     -------- ------------------------------ 2.8/13.7 MB 918.2 kB/s eta 0:00:12\n",
      "     -------- ------------------------------ 2.9/13.7 MB 919.6 kB/s eta 0:00:12\n",
      "     -------- ------------------------------ 2.9/13.7 MB 922.1 kB/s eta 0:00:12\n",
      "     -------- ------------------------------ 3.0/13.7 MB 918.2 kB/s eta 0:00:12\n",
      "     -------- ------------------------------ 3.0/13.7 MB 920.7 kB/s eta 0:00:12\n",
      "     -------- ------------------------------ 3.1/13.7 MB 916.9 kB/s eta 0:00:12\n",
      "     -------- ------------------------------ 3.1/13.7 MB 919.3 kB/s eta 0:00:12\n",
      "     --------- ----------------------------- 3.2/13.7 MB 927.6 kB/s eta 0:00:12\n",
      "     --------- ----------------------------- 3.2/13.7 MB 924.2 kB/s eta 0:00:12\n",
      "     --------- ----------------------------- 3.3/13.7 MB 926.7 kB/s eta 0:00:12\n",
      "     --------- ----------------------------- 3.3/13.7 MB 933.0 kB/s eta 0:00:12\n",
      "     --------- ----------------------------- 3.4/13.7 MB 934.0 kB/s eta 0:00:12\n",
      "     --------- ----------------------------- 3.5/13.7 MB 939.8 kB/s eta 0:00:11\n",
      "     ---------- ---------------------------- 3.5/13.7 MB 940.6 kB/s eta 0:00:11\n",
      "     ---------- ---------------------------- 3.6/13.7 MB 948.2 kB/s eta 0:00:11\n",
      "     ---------- ---------------------------- 3.7/13.7 MB 961.9 kB/s eta 0:00:11\n",
      "     ---------- ---------------------------- 3.7/13.7 MB 958.2 kB/s eta 0:00:11\n",
      "     ---------- ---------------------------- 3.8/13.7 MB 954.6 kB/s eta 0:00:11\n",
      "     ---------- ---------------------------- 3.8/13.7 MB 951.0 kB/s eta 0:00:11\n",
      "     ---------- ---------------------------- 3.9/13.7 MB 948.9 kB/s eta 0:00:11\n",
      "     ----------- --------------------------- 3.9/13.7 MB 945.7 kB/s eta 0:00:11\n",
      "     ----------- --------------------------- 3.9/13.7 MB 950.8 kB/s eta 0:00:11\n",
      "     ----------- --------------------------- 4.0/13.7 MB 946.8 kB/s eta 0:00:11\n",
      "     ----------- --------------------------- 4.0/13.7 MB 946.0 kB/s eta 0:00:11\n",
      "     ----------- --------------------------- 4.1/13.7 MB 945.5 kB/s eta 0:00:11\n",
      "     ----------- --------------------------- 4.1/13.7 MB 945.6 kB/s eta 0:00:11\n",
      "     ----------- --------------------------- 4.2/13.7 MB 949.4 kB/s eta 0:00:10\n",
      "     ------------ -------------------------- 4.3/13.7 MB 951.1 kB/s eta 0:00:10\n",
      "     ------------ -------------------------- 4.3/13.7 MB 952.6 kB/s eta 0:00:10\n",
      "     ------------ -------------------------- 4.4/13.7 MB 954.0 kB/s eta 0:00:10\n",
      "     ------------ -------------------------- 4.4/13.7 MB 949.8 kB/s eta 0:00:10\n",
      "     ------------ -------------------------- 4.4/13.7 MB 949.0 kB/s eta 0:00:10\n",
      "     ------------ -------------------------- 4.5/13.7 MB 949.3 kB/s eta 0:00:10\n",
      "     ------------ -------------------------- 4.5/13.7 MB 946.4 kB/s eta 0:00:10\n",
      "     ------------ -------------------------- 4.6/13.7 MB 947.8 kB/s eta 0:00:10\n",
      "     ------------- ------------------------- 4.6/13.7 MB 945.1 kB/s eta 0:00:10\n",
      "     ------------- ------------------------- 4.6/13.7 MB 945.2 kB/s eta 0:00:10\n",
      "     ------------- ------------------------- 4.7/13.7 MB 947.6 kB/s eta 0:00:10\n",
      "     ------------- ------------------------- 4.7/13.7 MB 941.0 kB/s eta 0:00:10\n",
      "     ------------- ------------------------- 4.7/13.7 MB 937.4 kB/s eta 0:00:10\n",
      "     ------------- ------------------------- 4.8/13.7 MB 934.9 kB/s eta 0:00:10\n",
      "     ------------- ------------------------- 4.8/13.7 MB 932.4 kB/s eta 0:00:10\n",
      "     ------------- ------------------------- 4.8/13.7 MB 931.8 kB/s eta 0:00:10\n",
      "     ------------- ------------------------- 4.9/13.7 MB 930.2 kB/s eta 0:00:10\n",
      "     ------------- ------------------------- 4.9/13.7 MB 928.4 kB/s eta 0:00:10\n",
      "     ------------- ------------------------- 4.9/13.7 MB 920.6 kB/s eta 0:00:10\n",
      "     -------------- ------------------------ 4.9/13.7 MB 915.7 kB/s eta 0:00:10\n",
      "     -------------- ------------------------ 5.0/13.7 MB 915.3 kB/s eta 0:00:10\n",
      "     -------------- ------------------------ 5.0/13.7 MB 908.0 kB/s eta 0:00:10\n",
      "     -------------- ------------------------ 5.0/13.7 MB 905.8 kB/s eta 0:00:10\n",
      "     -------------- ------------------------ 5.1/13.7 MB 903.7 kB/s eta 0:00:10\n",
      "     -------------- ------------------------ 5.1/13.7 MB 902.7 kB/s eta 0:00:10\n",
      "     -------------- ------------------------ 5.2/13.7 MB 903.2 kB/s eta 0:00:10\n",
      "     -------------- ------------------------ 5.2/13.7 MB 902.3 kB/s eta 0:00:10\n",
      "     -------------- ------------------------ 5.2/13.7 MB 900.9 kB/s eta 0:00:10\n",
      "     -------------- ------------------------ 5.3/13.7 MB 896.6 kB/s eta 0:00:10\n",
      "     --------------- ----------------------- 5.3/13.7 MB 893.4 kB/s eta 0:00:10\n",
      "     --------------- ----------------------- 5.3/13.7 MB 892.8 kB/s eta 0:00:10\n",
      "     --------------- ----------------------- 5.4/13.7 MB 888.7 kB/s eta 0:00:10\n",
      "     --------------- ----------------------- 5.4/13.7 MB 890.2 kB/s eta 0:00:10\n",
      "     --------------- ----------------------- 5.4/13.7 MB 888.4 kB/s eta 0:00:10\n",
      "     --------------- ----------------------- 5.5/13.7 MB 887.2 kB/s eta 0:00:10\n",
      "     --------------- ----------------------- 5.5/13.7 MB 883.2 kB/s eta 0:00:10\n",
      "     --------------- ----------------------- 5.5/13.7 MB 881.5 kB/s eta 0:00:10\n",
      "     --------------- ----------------------- 5.6/13.7 MB 883.6 kB/s eta 0:00:10\n",
      "     --------------- ----------------------- 5.6/13.7 MB 879.8 kB/s eta 0:00:10\n",
      "     --------------- ----------------------- 5.6/13.7 MB 875.0 kB/s eta 0:00:10\n",
      "     ---------------- ---------------------- 5.6/13.7 MB 874.9 kB/s eta 0:00:10\n",
      "     ---------------- ---------------------- 5.7/13.7 MB 873.3 kB/s eta 0:00:10\n",
      "     ---------------- ---------------------- 5.7/13.7 MB 873.9 kB/s eta 0:00:10\n",
      "     ---------------- ---------------------- 5.7/13.7 MB 870.2 kB/s eta 0:00:10\n",
      "     ---------------- ---------------------- 5.8/13.7 MB 870.8 kB/s eta 0:00:10\n",
      "     ---------------- ---------------------- 5.8/13.7 MB 870.8 kB/s eta 0:00:10\n",
      "     ---------------- ---------------------- 5.8/13.7 MB 869.2 kB/s eta 0:00:10\n",
      "     ---------------- ---------------------- 5.9/13.7 MB 869.8 kB/s eta 0:00:10\n",
      "     ---------------- ---------------------- 5.9/13.7 MB 869.3 kB/s eta 0:00:09\n",
      "     ---------------- ---------------------- 6.0/13.7 MB 868.9 kB/s eta 0:00:09\n",
      "     ----------------- --------------------- 6.0/13.7 MB 865.9 kB/s eta 0:00:09\n",
      "     ----------------- --------------------- 6.0/13.7 MB 866.9 kB/s eta 0:00:09\n",
      "     ----------------- --------------------- 6.1/13.7 MB 865.1 kB/s eta 0:00:09\n",
      "     ----------------- --------------------- 6.1/13.7 MB 865.1 kB/s eta 0:00:09\n",
      "     ----------------- --------------------- 6.1/13.7 MB 865.1 kB/s eta 0:00:09\n",
      "     ----------------- --------------------- 6.2/13.7 MB 865.2 kB/s eta 0:00:09\n",
      "     ----------------- --------------------- 6.2/13.7 MB 866.7 kB/s eta 0:00:09\n",
      "     ----------------- --------------------- 6.2/13.7 MB 865.8 kB/s eta 0:00:09\n",
      "     ----------------- --------------------- 6.3/13.7 MB 865.4 kB/s eta 0:00:09\n",
      "     ------------------ -------------------- 6.3/13.7 MB 865.5 kB/s eta 0:00:09\n",
      "     ------------------ -------------------- 6.4/13.7 MB 869.7 kB/s eta 0:00:09\n",
      "     ------------------ -------------------- 6.5/13.7 MB 871.1 kB/s eta 0:00:09\n",
      "     ------------------ -------------------- 6.5/13.7 MB 871.1 kB/s eta 0:00:09\n",
      "     ------------------ -------------------- 6.5/13.7 MB 872.1 kB/s eta 0:00:09\n",
      "     ------------------ -------------------- 6.6/13.7 MB 871.1 kB/s eta 0:00:09\n",
      "     ------------------ -------------------- 6.6/13.7 MB 872.1 kB/s eta 0:00:09\n",
      "     ------------------ -------------------- 6.6/13.7 MB 868.9 kB/s eta 0:00:09\n",
      "     ------------------- ------------------- 6.7/13.7 MB 868.5 kB/s eta 0:00:09\n",
      "     ------------------- ------------------- 6.7/13.7 MB 867.2 kB/s eta 0:00:09\n",
      "     ------------------- ------------------- 6.7/13.7 MB 864.2 kB/s eta 0:00:09\n",
      "     ------------------- ------------------- 6.8/13.7 MB 862.1 kB/s eta 0:00:09\n",
      "     ------------------- ------------------- 6.8/13.7 MB 859.2 kB/s eta 0:00:08\n",
      "     ------------------- ------------------- 6.9/13.7 MB 862.7 kB/s eta 0:00:08\n",
      "     ------------------- ------------------- 6.9/13.7 MB 859.8 kB/s eta 0:00:08\n",
      "     ------------------- ------------------- 6.9/13.7 MB 858.6 kB/s eta 0:00:08\n",
      "     ------------------- ------------------- 7.0/13.7 MB 856.7 kB/s eta 0:00:08\n",
      "     ------------------- ------------------- 7.0/13.7 MB 853.0 kB/s eta 0:00:08\n",
      "     -------------------- ------------------ 7.0/13.7 MB 853.1 kB/s eta 0:00:08\n",
      "     -------------------- ------------------ 7.1/13.7 MB 850.4 kB/s eta 0:00:08\n",
      "     -------------------- ------------------ 7.1/13.7 MB 850.9 kB/s eta 0:00:08\n",
      "     -------------------- ------------------ 7.1/13.7 MB 851.4 kB/s eta 0:00:08\n",
      "     -------------------- ------------------ 7.2/13.7 MB 848.7 kB/s eta 0:00:08\n",
      "     -------------------- ------------------ 7.2/13.7 MB 848.5 kB/s eta 0:00:08\n",
      "     -------------------- ------------------ 7.3/13.7 MB 849.8 kB/s eta 0:00:08\n",
      "     -------------------- ------------------ 7.3/13.7 MB 849.7 kB/s eta 0:00:08\n",
      "     -------------------- ------------------ 7.4/13.7 MB 850.6 kB/s eta 0:00:08\n",
      "     --------------------- ----------------- 7.4/13.7 MB 849.5 kB/s eta 0:00:08\n",
      "     --------------------- ----------------- 7.4/13.7 MB 849.6 kB/s eta 0:00:08\n",
      "     --------------------- ----------------- 7.5/13.7 MB 849.7 kB/s eta 0:00:08\n",
      "     --------------------- ----------------- 7.5/13.7 MB 850.0 kB/s eta 0:00:08\n",
      "     --------------------- ----------------- 7.6/13.7 MB 850.1 kB/s eta 0:00:08\n",
      "     --------------------- ----------------- 7.6/13.7 MB 851.6 kB/s eta 0:00:08\n",
      "     --------------------- ----------------- 7.7/13.7 MB 851.1 kB/s eta 0:00:08\n",
      "     --------------------- ----------------- 7.7/13.7 MB 850.9 kB/s eta 0:00:08\n",
      "     ---------------------- ---------------- 7.8/13.7 MB 849.9 kB/s eta 0:00:08\n",
      "     ---------------------- ---------------- 7.8/13.7 MB 849.9 kB/s eta 0:00:08\n",
      "     ---------------------- ---------------- 7.8/13.7 MB 846.0 kB/s eta 0:00:07\n",
      "     ---------------------- ---------------- 7.8/13.7 MB 846.0 kB/s eta 0:00:07\n",
      "     ---------------------- ---------------- 7.9/13.7 MB 854.0 kB/s eta 0:00:07\n",
      "     ---------------------- ---------------- 8.0/13.7 MB 857.1 kB/s eta 0:00:07\n",
      "     ---------------------- ---------------- 8.1/13.7 MB 861.5 kB/s eta 0:00:07\n",
      "     ----------------------- --------------- 8.1/13.7 MB 861.5 kB/s eta 0:00:07\n",
      "     ----------------------- --------------- 8.2/13.7 MB 860.9 kB/s eta 0:00:07\n",
      "     ----------------------- --------------- 8.2/13.7 MB 860.6 kB/s eta 0:00:07\n",
      "     ----------------------- --------------- 8.3/13.7 MB 861.7 kB/s eta 0:00:07\n",
      "     ----------------------- --------------- 8.3/13.7 MB 861.8 kB/s eta 0:00:07\n",
      "     ----------------------- --------------- 8.4/13.7 MB 864.3 kB/s eta 0:00:07\n",
      "     ----------------------- --------------- 8.4/13.7 MB 864.0 kB/s eta 0:00:07\n",
      "     ------------------------ -------------- 8.4/13.7 MB 864.4 kB/s eta 0:00:07\n",
      "     ------------------------ -------------- 8.5/13.7 MB 864.8 kB/s eta 0:00:07\n",
      "     ------------------------ -------------- 8.5/13.7 MB 864.8 kB/s eta 0:00:07\n",
      "     ------------------------ -------------- 8.5/13.7 MB 863.8 kB/s eta 0:00:06\n",
      "     ------------------------ -------------- 8.6/13.7 MB 863.6 kB/s eta 0:00:06\n",
      "     ------------------------ -------------- 8.6/13.7 MB 863.6 kB/s eta 0:00:06\n",
      "     ------------------------ -------------- 8.7/13.7 MB 865.0 kB/s eta 0:00:06\n",
      "     ------------------------ -------------- 8.7/13.7 MB 862.6 kB/s eta 0:00:06\n",
      "     ------------------------- ------------- 8.8/13.7 MB 865.7 kB/s eta 0:00:06\n",
      "     ------------------------- ------------- 8.9/13.7 MB 866.9 kB/s eta 0:00:06\n",
      "     ------------------------- ------------- 8.9/13.7 MB 865.9 kB/s eta 0:00:06\n",
      "     ------------------------- ------------- 8.9/13.7 MB 866.9 kB/s eta 0:00:06\n",
      "     ------------------------- ------------- 9.0/13.7 MB 867.3 kB/s eta 0:00:06\n",
      "     ------------------------- ------------- 9.0/13.7 MB 866.9 kB/s eta 0:00:06\n",
      "     ------------------------- ------------- 9.1/13.7 MB 869.3 kB/s eta 0:00:06\n",
      "     -------------------------- ------------ 9.2/13.7 MB 871.9 kB/s eta 0:00:06\n",
      "     -------------------------- ------------ 9.2/13.7 MB 870.9 kB/s eta 0:00:06\n",
      "     -------------------------- ------------ 9.2/13.7 MB 873.2 kB/s eta 0:00:06\n",
      "     -------------------------- ------------ 9.3/13.7 MB 873.9 kB/s eta 0:00:06\n",
      "     -------------------------- ------------ 9.4/13.7 MB 874.8 kB/s eta 0:00:05\n",
      "     -------------------------- ------------ 9.4/13.7 MB 875.1 kB/s eta 0:00:05\n",
      "     --------------------------- ----------- 9.5/13.7 MB 879.5 kB/s eta 0:00:05\n",
      "     --------------------------- ----------- 9.6/13.7 MB 881.4 kB/s eta 0:00:05\n",
      "     --------------------------- ----------- 9.6/13.7 MB 884.5 kB/s eta 0:00:05\n",
      "     --------------------------- ----------- 9.7/13.7 MB 886.9 kB/s eta 0:00:05\n",
      "     --------------------------- ----------- 9.7/13.7 MB 887.9 kB/s eta 0:00:05\n",
      "     --------------------------- ----------- 9.8/13.7 MB 888.7 kB/s eta 0:00:05\n",
      "     --------------------------- ----------- 9.8/13.7 MB 887.7 kB/s eta 0:00:05\n",
      "     ---------------------------- ---------- 9.9/13.7 MB 887.3 kB/s eta 0:00:05\n",
      "     ---------------------------- ---------- 9.9/13.7 MB 888.0 kB/s eta 0:00:05\n",
      "     --------------------------- ---------- 10.0/13.7 MB 888.4 kB/s eta 0:00:05\n",
      "     --------------------------- ---------- 10.0/13.7 MB 887.5 kB/s eta 0:00:05\n",
      "     --------------------------- ---------- 10.0/13.7 MB 888.3 kB/s eta 0:00:05\n",
      "     ---------------------------- --------- 10.1/13.7 MB 889.2 kB/s eta 0:00:05\n",
      "     ---------------------------- --------- 10.2/13.7 MB 890.6 kB/s eta 0:00:04\n",
      "     ---------------------------- --------- 10.3/13.7 MB 893.2 kB/s eta 0:00:04\n",
      "     ---------------------------- --------- 10.3/13.7 MB 899.3 kB/s eta 0:00:04\n",
      "     ---------------------------- --------- 10.4/13.7 MB 899.3 kB/s eta 0:00:04\n",
      "     ---------------------------- --------- 10.4/13.7 MB 901.8 kB/s eta 0:00:04\n",
      "     ----------------------------- -------- 10.5/13.7 MB 905.5 kB/s eta 0:00:04\n",
      "     ----------------------------- -------- 10.5/13.7 MB 904.2 kB/s eta 0:00:04\n",
      "     ----------------------------- -------- 10.5/13.7 MB 904.2 kB/s eta 0:00:04\n",
      "     ----------------------------- -------- 10.6/13.7 MB 904.3 kB/s eta 0:00:04\n",
      "     ----------------------------- -------- 10.6/13.7 MB 906.8 kB/s eta 0:00:04\n",
      "     ----------------------------- -------- 10.7/13.7 MB 908.0 kB/s eta 0:00:04\n",
      "     ----------------------------- -------- 10.7/13.7 MB 913.1 kB/s eta 0:00:04\n",
      "     ----------------------------- -------- 10.8/13.7 MB 914.4 kB/s eta 0:00:04\n",
      "     ----------------------------- -------- 10.8/13.7 MB 913.1 kB/s eta 0:00:04\n",
      "     ------------------------------ ------- 10.8/13.7 MB 914.4 kB/s eta 0:00:04\n",
      "     ------------------------------ ------- 10.9/13.7 MB 913.1 kB/s eta 0:00:04\n",
      "     ------------------------------ ------- 10.9/13.7 MB 914.4 kB/s eta 0:00:04\n",
      "     ------------------------------ ------- 10.9/13.7 MB 913.1 kB/s eta 0:00:04\n",
      "     ------------------------------ ------- 11.0/13.7 MB 914.4 kB/s eta 0:00:03\n",
      "     ------------------------------ ------- 11.1/13.7 MB 916.9 kB/s eta 0:00:03\n",
      "     ------------------------------ ------- 11.2/13.7 MB 922.2 kB/s eta 0:00:03\n",
      "     ------------------------------- ------ 11.2/13.7 MB 927.4 kB/s eta 0:00:03\n",
      "     ------------------------------- ------ 11.3/13.7 MB 930.0 kB/s eta 0:00:03\n",
      "     ------------------------------- ------ 11.3/13.7 MB 928.7 kB/s eta 0:00:03\n",
      "     ------------------------------- ------ 11.4/13.7 MB 931.2 kB/s eta 0:00:03\n",
      "     ------------------------------- ------ 11.4/13.7 MB 931.3 kB/s eta 0:00:03\n",
      "     ------------------------------- ------ 11.5/13.7 MB 935.2 kB/s eta 0:00:03\n",
      "     -------------------------------- ----- 11.5/13.7 MB 937.9 kB/s eta 0:00:03\n",
      "     -------------------------------- ----- 11.6/13.7 MB 940.7 kB/s eta 0:00:03\n",
      "     -------------------------------- ----- 11.6/13.7 MB 940.7 kB/s eta 0:00:03\n",
      "     -------------------------------- ----- 11.7/13.7 MB 942.1 kB/s eta 0:00:03\n",
      "     -------------------------------- ----- 11.8/13.7 MB 946.1 kB/s eta 0:00:03\n",
      "     -------------------------------- ----- 11.8/13.7 MB 944.8 kB/s eta 0:00:03\n",
      "     -------------------------------- ----- 11.9/13.7 MB 948.9 kB/s eta 0:00:02\n",
      "     --------------------------------- ---- 11.9/13.7 MB 947.5 kB/s eta 0:00:02\n",
      "     --------------------------------- ---- 12.0/13.7 MB 947.5 kB/s eta 0:00:02\n",
      "     --------------------------------- ---- 12.0/13.7 MB 947.5 kB/s eta 0:00:02\n",
      "     --------------------------------- ---- 12.1/13.7 MB 946.1 kB/s eta 0:00:02\n",
      "     --------------------------------- ---- 12.2/13.7 MB 943.4 kB/s eta 0:00:02\n",
      "     --------------------------------- ---- 12.2/13.7 MB 944.7 kB/s eta 0:00:02\n",
      "     --------------------------------- ---- 12.2/13.7 MB 944.8 kB/s eta 0:00:02\n",
      "     ---------------------------------- --- 12.3/13.7 MB 943.4 kB/s eta 0:00:02\n",
      "     ---------------------------------- --- 12.3/13.7 MB 942.0 kB/s eta 0:00:02\n",
      "     ---------------------------------- --- 12.4/13.7 MB 942.1 kB/s eta 0:00:02\n",
      "     ---------------------------------- --- 12.5/13.7 MB 943.4 kB/s eta 0:00:02\n",
      "     ---------------------------------- --- 12.6/13.7 MB 947.5 kB/s eta 0:00:02\n",
      "     ----------------------------------- -- 12.6/13.7 MB 948.9 kB/s eta 0:00:02\n",
      "     ----------------------------------- -- 12.7/13.7 MB 947.5 kB/s eta 0:00:02\n",
      "     ----------------------------------- -- 12.8/13.7 MB 946.1 kB/s eta 0:00:01\n",
      "     ----------------------------------- -- 12.8/13.7 MB 944.8 kB/s eta 0:00:01\n",
      "     ----------------------------------- -- 12.9/13.7 MB 943.4 kB/s eta 0:00:01\n",
      "     ----------------------------------- -- 12.9/13.7 MB 942.0 kB/s eta 0:00:01\n",
      "     ------------------------------------ - 13.0/13.7 MB 940.7 kB/s eta 0:00:01\n",
      "     ------------------------------------ - 13.1/13.7 MB 944.8 kB/s eta 0:00:01\n",
      "     ------------------------------------ - 13.2/13.7 MB 954.4 kB/s eta 0:00:01\n",
      "     -------------------------------------  13.3/13.7 MB 958.6 kB/s eta 0:00:01\n",
      "     -------------------------------------  13.4/13.7 MB 961.4 kB/s eta 0:00:01\n",
      "     -------------------------------------  13.5/13.7 MB 959.9 kB/s eta 0:00:01\n",
      "     -------------------------------------  13.6/13.7 MB 961.4 kB/s eta 0:00:01\n",
      "     -------------------------------------  13.6/13.7 MB 964.3 kB/s eta 0:00:01\n",
      "     -------------------------------------  13.7/13.7 MB 962.8 kB/s eta 0:00:01\n",
      "     -------------------------------------  13.7/13.7 MB 960.0 kB/s eta 0:00:01\n",
      "     -------------------------------------- 13.7/13.7 MB 954.4 kB/s eta 0:00:00\n",
      "  Preparing metadata (setup.py): started\n",
      "  Preparing metadata (setup.py): finished with status 'done'\n",
      "Collecting spacy<3.1.0,>=3.0.0 (from en-core-web-sm==3.0.0)\n",
      "  Using cached spacy-3.0.9.tar.gz (989 kB)\n",
      "  Installing build dependencies: started\n",
      "  Installing build dependencies: still running...\n",
      "  Installing build dependencies: finished with status 'done'\n",
      "  Getting requirements to build wheel: started\n",
      "  Getting requirements to build wheel: still running...\n",
      "  Getting requirements to build wheel: still running...\n",
      "  Getting requirements to build wheel: still running...\n",
      "  Getting requirements to build wheel: still running...\n",
      "  Getting requirements to build wheel: finished with status 'done'\n",
      "  Installing backend dependencies: started\n",
      "  Installing backend dependencies: finished with status 'done'\n",
      "  Preparing metadata (pyproject.toml): started\n",
      "  Preparing metadata (pyproject.toml): finished with status 'done'\n",
      "Requirement already satisfied: spacy-legacy<3.1.0,>=3.0.5 in c:\\users\\acer\\anaconda3\\lib\\site-packages (from spacy<3.1.0,>=3.0.0->en-core-web-sm==3.0.0) (3.0.12)\n",
      "Requirement already satisfied: murmurhash<1.1.0,>=0.28.0 in c:\\users\\acer\\anaconda3\\lib\\site-packages (from spacy<3.1.0,>=3.0.0->en-core-web-sm==3.0.0) (1.0.10)\n",
      "Requirement already satisfied: cymem<2.1.0,>=2.0.2 in c:\\users\\acer\\anaconda3\\lib\\site-packages (from spacy<3.1.0,>=3.0.0->en-core-web-sm==3.0.0) (2.0.8)\n",
      "Requirement already satisfied: preshed<3.1.0,>=3.0.2 in c:\\users\\acer\\anaconda3\\lib\\site-packages (from spacy<3.1.0,>=3.0.0->en-core-web-sm==3.0.0) (3.0.9)\n",
      "Collecting thinc<8.1.0,>=8.0.3 (from spacy<3.1.0,>=3.0.0->en-core-web-sm==3.0.0)\n",
      "  Using cached thinc-8.0.17-cp311-cp311-win_amd64.whl\n",
      "Requirement already satisfied: blis<0.8.0,>=0.4.0 in c:\\users\\acer\\anaconda3\\lib\\site-packages (from spacy<3.1.0,>=3.0.0->en-core-web-sm==3.0.0) (0.7.11)\n",
      "Collecting wasabi<1.1.0,>=0.8.1 (from spacy<3.1.0,>=3.0.0->en-core-web-sm==3.0.0)\n",
      "  Using cached wasabi-0.10.1-py3-none-any.whl.metadata (28 kB)\n",
      "Requirement already satisfied: srsly<3.0.0,>=2.4.1 in c:\\users\\acer\\anaconda3\\lib\\site-packages (from spacy<3.1.0,>=3.0.0->en-core-web-sm==3.0.0) (2.4.8)\n",
      "Requirement already satisfied: catalogue<2.1.0,>=2.0.4 in c:\\users\\acer\\anaconda3\\lib\\site-packages (from spacy<3.1.0,>=3.0.0->en-core-web-sm==3.0.0) (2.0.10)\n",
      "Collecting typer<0.4.0,>=0.3.0 (from spacy<3.1.0,>=3.0.0->en-core-web-sm==3.0.0)\n",
      "  Downloading typer-0.3.2-py3-none-any.whl.metadata (12 kB)\n",
      "Collecting pathy>=0.3.5 (from spacy<3.1.0,>=3.0.0->en-core-web-sm==3.0.0)\n",
      "  Using cached pathy-0.11.0-py3-none-any.whl.metadata (16 kB)\n",
      "Requirement already satisfied: smart-open<7.0.0,>=5.2.1 in c:\\users\\acer\\anaconda3\\lib\\site-packages (from spacy<3.1.0,>=3.0.0->en-core-web-sm==3.0.0) (5.2.1)\n",
      "Requirement already satisfied: tqdm<5.0.0,>=4.38.0 in c:\\users\\acer\\anaconda3\\lib\\site-packages (from spacy<3.1.0,>=3.0.0->en-core-web-sm==3.0.0) (4.65.0)\n",
      "Requirement already satisfied: numpy>=1.15.0 in c:\\users\\acer\\anaconda3\\lib\\site-packages (from spacy<3.1.0,>=3.0.0->en-core-web-sm==3.0.0) (1.24.4)\n",
      "Requirement already satisfied: requests<3.0.0,>=2.13.0 in c:\\users\\acer\\anaconda3\\lib\\site-packages (from spacy<3.1.0,>=3.0.0->en-core-web-sm==3.0.0) (2.31.0)\n",
      "Collecting pydantic!=1.8,!=1.8.1,<1.9.0,>=1.7.4 (from spacy<3.1.0,>=3.0.0->en-core-web-sm==3.0.0)\n",
      "  Using cached pydantic-1.8.2-py3-none-any.whl.metadata (103 kB)\n",
      "Requirement already satisfied: jinja2 in c:\\users\\acer\\anaconda3\\lib\\site-packages (from spacy<3.1.0,>=3.0.0->en-core-web-sm==3.0.0) (3.1.3)\n",
      "Requirement already satisfied: setuptools in c:\\users\\acer\\anaconda3\\lib\\site-packages (from spacy<3.1.0,>=3.0.0->en-core-web-sm==3.0.0) (68.2.2)\n",
      "Requirement already satisfied: packaging>=20.0 in c:\\users\\acer\\anaconda3\\lib\\site-packages (from spacy<3.1.0,>=3.0.0->en-core-web-sm==3.0.0) (23.1)\n",
      "Collecting pathlib-abc==0.1.1 (from pathy>=0.3.5->spacy<3.1.0,>=3.0.0->en-core-web-sm==3.0.0)\n",
      "  Using cached pathlib_abc-0.1.1-py3-none-any.whl.metadata (18 kB)\n",
      "Requirement already satisfied: typing-extensions>=3.7.4.3 in c:\\users\\acer\\anaconda3\\lib\\site-packages (from pydantic!=1.8,!=1.8.1,<1.9.0,>=1.7.4->spacy<3.1.0,>=3.0.0->en-core-web-sm==3.0.0) (4.9.0)\n",
      "Requirement already satisfied: charset-normalizer<4,>=2 in c:\\users\\acer\\anaconda3\\lib\\site-packages (from requests<3.0.0,>=2.13.0->spacy<3.1.0,>=3.0.0->en-core-web-sm==3.0.0) (2.0.4)\n",
      "Requirement already satisfied: idna<4,>=2.5 in c:\\users\\acer\\anaconda3\\lib\\site-packages (from requests<3.0.0,>=2.13.0->spacy<3.1.0,>=3.0.0->en-core-web-sm==3.0.0) (3.4)\n",
      "Requirement already satisfied: urllib3<3,>=1.21.1 in c:\\users\\acer\\anaconda3\\lib\\site-packages (from requests<3.0.0,>=2.13.0->spacy<3.1.0,>=3.0.0->en-core-web-sm==3.0.0) (2.0.7)\n",
      "Requirement already satisfied: certifi>=2017.4.17 in c:\\users\\acer\\anaconda3\\lib\\site-packages (from requests<3.0.0,>=2.13.0->spacy<3.1.0,>=3.0.0->en-core-web-sm==3.0.0) (2024.2.2)\n",
      "Requirement already satisfied: colorama in c:\\users\\acer\\anaconda3\\lib\\site-packages (from tqdm<5.0.0,>=4.38.0->spacy<3.1.0,>=3.0.0->en-core-web-sm==3.0.0) (0.4.6)\n",
      "Collecting click<7.2.0,>=7.1.1 (from typer<0.4.0,>=0.3.0->spacy<3.1.0,>=3.0.0->en-core-web-sm==3.0.0)\n",
      "  Downloading click-7.1.2-py2.py3-none-any.whl.metadata (2.9 kB)\n",
      "Requirement already satisfied: MarkupSafe>=2.0 in c:\\users\\acer\\anaconda3\\lib\\site-packages (from jinja2->spacy<3.1.0,>=3.0.0->en-core-web-sm==3.0.0) (2.1.3)\n",
      "Using cached pathy-0.11.0-py3-none-any.whl (47 kB)\n",
      "Using cached pathlib_abc-0.1.1-py3-none-any.whl (23 kB)\n",
      "Using cached pydantic-1.8.2-py3-none-any.whl (126 kB)\n",
      "Downloading typer-0.3.2-py3-none-any.whl (21 kB)\n",
      "Using cached wasabi-0.10.1-py3-none-any.whl (26 kB)\n",
      "Downloading click-7.1.2-py2.py3-none-any.whl (82 kB)\n",
      "   ---------------------------------------- 0.0/82.8 kB ? eta -:--:--\n",
      "   ---- ----------------------------------- 10.2/82.8 kB ? eta -:--:--\n",
      "   -------------- ------------------------- 30.7/82.8 kB 435.7 kB/s eta 0:00:01\n",
      "   ------------------- -------------------- 41.0/82.8 kB 388.9 kB/s eta 0:00:01\n",
      "   ---------------------------------------  81.9/82.8 kB 508.4 kB/s eta 0:00:01\n",
      "   ---------------------------------------  81.9/82.8 kB 508.4 kB/s eta 0:00:01\n",
      "   ---------------------------------------- 82.8/82.8 kB 331.2 kB/s eta 0:00:00\n",
      "Building wheels for collected packages: en-core-web-sm, spacy\n",
      "  Building wheel for en-core-web-sm (setup.py): started\n",
      "  Building wheel for en-core-web-sm (setup.py): finished with status 'done'\n",
      "  Created wheel for en-core-web-sm: filename=en_core_web_sm-3.0.0-py3-none-any.whl size=13704311 sha256=d35f2af55d4e3cacccf7090956714e65f6ab936a1b45ce50c45973c5ea67ea79\n",
      "  Stored in directory: c:\\users\\acer\\appdata\\local\\pip\\cache\\wheels\\c5\\5a\\18\\e3681669d38e613bedce7c30998e5e8d5112c1aa1a6e606edd\n",
      "  Building wheel for spacy (pyproject.toml): started\n",
      "  Building wheel for spacy (pyproject.toml): still running...\n",
      "  Building wheel for spacy (pyproject.toml): still running...\n",
      "  Building wheel for spacy (pyproject.toml): still running...\n",
      "  Building wheel for spacy (pyproject.toml): still running...\n",
      "  Building wheel for spacy (pyproject.toml): finished with status 'done'\n",
      "  Created wheel for spacy: filename=spacy-3.0.9-cp311-cp311-win_amd64.whl size=11163331 sha256=1c8a680adc4d2122026dfd04e1f2445bfaf22fc27a55822e369ee2d453de161a\n",
      "  Stored in directory: c:\\users\\acer\\appdata\\local\\pip\\cache\\wheels\\15\\7a\\5d\\414d7808f5065725156f1dbfc946cdba0ba24cfbd3c4f2e3cb\n",
      "Successfully built en-core-web-sm spacy\n",
      "Installing collected packages: wasabi, pydantic, pathlib-abc, click, typer, thinc, pathy, spacy, en-core-web-sm\n",
      "  Attempting uninstall: wasabi\n",
      "    Found existing installation: wasabi 1.1.2\n",
      "    Uninstalling wasabi-1.1.2:\n",
      "      Successfully uninstalled wasabi-1.1.2\n",
      "  Attempting uninstall: pydantic\n",
      "    Found existing installation: pydantic 1.10.12\n",
      "    Uninstalling pydantic-1.10.12:\n",
      "      Successfully uninstalled pydantic-1.10.12\n",
      "  Attempting uninstall: click\n",
      "    Found existing installation: click 8.1.7\n",
      "    Uninstalling click-8.1.7:\n",
      "      Successfully uninstalled click-8.1.7\n",
      "  Attempting uninstall: typer\n",
      "    Found existing installation: typer 0.9.4\n",
      "    Uninstalling typer-0.9.4:\n",
      "      Successfully uninstalled typer-0.9.4\n",
      "  Attempting uninstall: thinc\n",
      "    Found existing installation: thinc 8.2.3\n",
      "    Uninstalling thinc-8.2.3:\n",
      "      Successfully uninstalled thinc-8.2.3\n",
      "  Attempting uninstall: spacy\n",
      "    Found existing installation: spacy 3.7.4\n",
      "    Uninstalling spacy-3.7.4:\n",
      "      Successfully uninstalled spacy-3.7.4\n",
      "  Attempting uninstall: en-core-web-sm\n",
      "    Found existing installation: en-core-web-sm 3.7.1\n",
      "    Uninstalling en-core-web-sm-3.7.1:\n",
      "      Successfully uninstalled en-core-web-sm-3.7.1\n",
      "Successfully installed click-7.1.2 en-core-web-sm-3.0.0 pathlib-abc-0.1.1 pathy-0.11.0 pydantic-1.8.2 spacy-3.0.9 thinc-8.0.17 typer-0.3.2 wasabi-0.10.1\n"
     ]
    }
   ],
   "source": [
    "input_test_arr=[]\n",
    "for item in X_test.values:\n",
    "    doc=nlp(item)\n",
    "    input_test_arr.append(doc.vector)"
   ]
  },
  {
   "cell_type": "code",
   "execution_count": 59,
   "id": "7ee4e48c-68e7-4910-bdb1-09ccc20512c7",
   "metadata": {},
   "outputs": [],
   "source": [
    "input_test_arr=np.array(input_test_arr)"
   ]
  },
  {
   "cell_type": "code",
   "execution_count": 60,
   "id": "e960b2e4-8da9-40bb-a1f6-0a68cf24d4f4",
   "metadata": {},
   "outputs": [
    {
     "data": {
      "text/plain": [
       "(1997, 96)"
      ]
     },
     "execution_count": 60,
     "metadata": {},
     "output_type": "execute_result"
    }
   ],
   "source": [
    "input_test_arr.shape"
   ]
  },
  {
   "cell_type": "code",
   "execution_count": 61,
   "id": "5b862098-4fe8-4ad2-91df-6d5a353d073f",
   "metadata": {},
   "outputs": [],
   "source": [
    "from sklearn.naive_bayes import GaussianNB"
   ]
  },
  {
   "cell_type": "code",
   "execution_count": 62,
   "id": "5d1d54a2-324c-4e23-836d-d93cb0afaa19",
   "metadata": {},
   "outputs": [
    {
     "data": {
      "text/html": [
       "<style>#sk-container-id-2 {color: black;background-color: white;}#sk-container-id-2 pre{padding: 0;}#sk-container-id-2 div.sk-toggleable {background-color: white;}#sk-container-id-2 label.sk-toggleable__label {cursor: pointer;display: block;width: 100%;margin-bottom: 0;padding: 0.3em;box-sizing: border-box;text-align: center;}#sk-container-id-2 label.sk-toggleable__label-arrow:before {content: \"▸\";float: left;margin-right: 0.25em;color: #696969;}#sk-container-id-2 label.sk-toggleable__label-arrow:hover:before {color: black;}#sk-container-id-2 div.sk-estimator:hover label.sk-toggleable__label-arrow:before {color: black;}#sk-container-id-2 div.sk-toggleable__content {max-height: 0;max-width: 0;overflow: hidden;text-align: left;background-color: #f0f8ff;}#sk-container-id-2 div.sk-toggleable__content pre {margin: 0.2em;color: black;border-radius: 0.25em;background-color: #f0f8ff;}#sk-container-id-2 input.sk-toggleable__control:checked~div.sk-toggleable__content {max-height: 200px;max-width: 100%;overflow: auto;}#sk-container-id-2 input.sk-toggleable__control:checked~label.sk-toggleable__label-arrow:before {content: \"▾\";}#sk-container-id-2 div.sk-estimator input.sk-toggleable__control:checked~label.sk-toggleable__label {background-color: #d4ebff;}#sk-container-id-2 div.sk-label input.sk-toggleable__control:checked~label.sk-toggleable__label {background-color: #d4ebff;}#sk-container-id-2 input.sk-hidden--visually {border: 0;clip: rect(1px 1px 1px 1px);clip: rect(1px, 1px, 1px, 1px);height: 1px;margin: -1px;overflow: hidden;padding: 0;position: absolute;width: 1px;}#sk-container-id-2 div.sk-estimator {font-family: monospace;background-color: #f0f8ff;border: 1px dotted black;border-radius: 0.25em;box-sizing: border-box;margin-bottom: 0.5em;}#sk-container-id-2 div.sk-estimator:hover {background-color: #d4ebff;}#sk-container-id-2 div.sk-parallel-item::after {content: \"\";width: 100%;border-bottom: 1px solid gray;flex-grow: 1;}#sk-container-id-2 div.sk-label:hover label.sk-toggleable__label {background-color: #d4ebff;}#sk-container-id-2 div.sk-serial::before {content: \"\";position: absolute;border-left: 1px solid gray;box-sizing: border-box;top: 0;bottom: 0;left: 50%;z-index: 0;}#sk-container-id-2 div.sk-serial {display: flex;flex-direction: column;align-items: center;background-color: white;padding-right: 0.2em;padding-left: 0.2em;position: relative;}#sk-container-id-2 div.sk-item {position: relative;z-index: 1;}#sk-container-id-2 div.sk-parallel {display: flex;align-items: stretch;justify-content: center;background-color: white;position: relative;}#sk-container-id-2 div.sk-item::before, #sk-container-id-2 div.sk-parallel-item::before {content: \"\";position: absolute;border-left: 1px solid gray;box-sizing: border-box;top: 0;bottom: 0;left: 50%;z-index: -1;}#sk-container-id-2 div.sk-parallel-item {display: flex;flex-direction: column;z-index: 1;position: relative;background-color: white;}#sk-container-id-2 div.sk-parallel-item:first-child::after {align-self: flex-end;width: 50%;}#sk-container-id-2 div.sk-parallel-item:last-child::after {align-self: flex-start;width: 50%;}#sk-container-id-2 div.sk-parallel-item:only-child::after {width: 0;}#sk-container-id-2 div.sk-dashed-wrapped {border: 1px dashed gray;margin: 0 0.4em 0.5em 0.4em;box-sizing: border-box;padding-bottom: 0.4em;background-color: white;}#sk-container-id-2 div.sk-label label {font-family: monospace;font-weight: bold;display: inline-block;line-height: 1.2em;}#sk-container-id-2 div.sk-label-container {text-align: center;}#sk-container-id-2 div.sk-container {/* jupyter's `normalize.less` sets `[hidden] { display: none; }` but bootstrap.min.css set `[hidden] { display: none !important; }` so we also need the `!important` here to be able to override the default hidden behavior on the sphinx rendered scikit-learn.org. See: https://github.com/scikit-learn/scikit-learn/issues/21755 */display: inline-block !important;position: relative;}#sk-container-id-2 div.sk-text-repr-fallback {display: none;}</style><div id=\"sk-container-id-2\" class=\"sk-top-container\"><div class=\"sk-text-repr-fallback\"><pre>GaussianNB()</pre><b>In a Jupyter environment, please rerun this cell to show the HTML representation or trust the notebook. <br />On GitHub, the HTML representation is unable to render, please try loading this page with nbviewer.org.</b></div><div class=\"sk-container\" hidden><div class=\"sk-item\"><div class=\"sk-estimator sk-toggleable\"><input class=\"sk-toggleable__control sk-hidden--visually\" id=\"sk-estimator-id-2\" type=\"checkbox\" checked><label for=\"sk-estimator-id-2\" class=\"sk-toggleable__label sk-toggleable__label-arrow\">GaussianNB</label><div class=\"sk-toggleable__content\"><pre>GaussianNB()</pre></div></div></div></div></div>"
      ],
      "text/plain": [
       "GaussianNB()"
      ]
     },
     "execution_count": 62,
     "metadata": {},
     "output_type": "execute_result"
    }
   ],
   "source": [
    "gnb=GaussianNB()\n",
    "gnb.fit(input_arr,y_train)"
   ]
  },
  {
   "cell_type": "code",
   "execution_count": 63,
   "id": "9ad5fd4f-64d3-4dc3-8caa-ed2713e47899",
   "metadata": {},
   "outputs": [
    {
     "data": {
      "text/plain": [
       "0.6169253880821232"
      ]
     },
     "execution_count": 63,
     "metadata": {},
     "output_type": "execute_result"
    }
   ],
   "source": [
    "y_pred=gnb.predict(input_test_arr)\n",
    "accuracy_score(y_pred,y_test)"
   ]
  },
  {
   "cell_type": "markdown",
   "id": "29fec733-d88b-488b-805b-45cf2079ae73",
   "metadata": {},
   "source": [
    "### Happy Learning...!"
   ]
  }
 ],
 "metadata": {
  "kernelspec": {
   "display_name": "Python 3 (ipykernel)",
   "language": "python",
   "name": "python3"
  },
  "language_info": {
   "codemirror_mode": {
    "name": "ipython",
    "version": 3
   },
   "file_extension": ".py",
   "mimetype": "text/x-python",
   "name": "python",
   "nbconvert_exporter": "python",
   "pygments_lexer": "ipython3",
   "version": "3.11.7"
  }
 },
 "nbformat": 4,
 "nbformat_minor": 5
}
